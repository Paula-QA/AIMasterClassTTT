{
  "nbformat": 4,
  "nbformat_minor": 0,
  "metadata": {
    "colab": {
      "provenance": [],
      "authorship_tag": "ABX9TyMq4QfI+pbXobqKTyPPX47x",
      "include_colab_link": true
    },
    "kernelspec": {
      "name": "python3",
      "display_name": "Python 3"
    },
    "language_info": {
      "name": "python"
    },
    "widgets": {
      "application/vnd.jupyter.widget-state+json": {
        "c8e59d0cadb2469ab5da4fb8f23a2bcc": {
          "model_module": "@jupyter-widgets/controls",
          "model_name": "TextModel",
          "model_module_version": "1.5.0",
          "state": {
            "_dom_classes": [],
            "_model_module": "@jupyter-widgets/controls",
            "_model_module_version": "1.5.0",
            "_model_name": "TextModel",
            "_view_count": null,
            "_view_module": "@jupyter-widgets/controls",
            "_view_module_version": "1.5.0",
            "_view_name": "TextView",
            "continuous_update": true,
            "description": "",
            "description_tooltip": null,
            "disabled": false,
            "layout": "IPY_MODEL_c5111e36e8f64b049ad56f916c8e48c1",
            "placeholder": "​",
            "style": "IPY_MODEL_38728a1a77874979b279669bf4360fd3",
            "value": "Test"
          }
        },
        "c5111e36e8f64b049ad56f916c8e48c1": {
          "model_module": "@jupyter-widgets/base",
          "model_name": "LayoutModel",
          "model_module_version": "1.2.0",
          "state": {
            "_model_module": "@jupyter-widgets/base",
            "_model_module_version": "1.2.0",
            "_model_name": "LayoutModel",
            "_view_count": null,
            "_view_module": "@jupyter-widgets/base",
            "_view_module_version": "1.2.0",
            "_view_name": "LayoutView",
            "align_content": null,
            "align_items": null,
            "align_self": null,
            "border": null,
            "bottom": null,
            "display": null,
            "flex": null,
            "flex_flow": null,
            "grid_area": null,
            "grid_auto_columns": null,
            "grid_auto_flow": null,
            "grid_auto_rows": null,
            "grid_column": null,
            "grid_gap": null,
            "grid_row": null,
            "grid_template_areas": null,
            "grid_template_columns": null,
            "grid_template_rows": null,
            "height": null,
            "justify_content": null,
            "justify_items": null,
            "left": null,
            "margin": null,
            "max_height": null,
            "max_width": null,
            "min_height": null,
            "min_width": null,
            "object_fit": null,
            "object_position": null,
            "order": null,
            "overflow": null,
            "overflow_x": null,
            "overflow_y": null,
            "padding": null,
            "right": null,
            "top": null,
            "visibility": null,
            "width": null
          }
        },
        "38728a1a77874979b279669bf4360fd3": {
          "model_module": "@jupyter-widgets/controls",
          "model_name": "DescriptionStyleModel",
          "model_module_version": "1.5.0",
          "state": {
            "_model_module": "@jupyter-widgets/controls",
            "_model_module_version": "1.5.0",
            "_model_name": "DescriptionStyleModel",
            "_view_count": null,
            "_view_module": "@jupyter-widgets/base",
            "_view_module_version": "1.2.0",
            "_view_name": "StyleView",
            "description_width": ""
          }
        },
        "0dce79f4ee534420a4ef933ec215c823": {
          "model_module": "@jupyter-widgets/controls",
          "model_name": "IntSliderModel",
          "model_module_version": "1.5.0",
          "state": {
            "_dom_classes": [],
            "_model_module": "@jupyter-widgets/controls",
            "_model_module_version": "1.5.0",
            "_model_name": "IntSliderModel",
            "_view_count": null,
            "_view_module": "@jupyter-widgets/controls",
            "_view_module_version": "1.5.0",
            "_view_name": "IntSliderView",
            "continuous_update": true,
            "description": "",
            "description_tooltip": null,
            "disabled": false,
            "layout": "IPY_MODEL_922a55affe9642b0a3c53c267255baf2",
            "max": 100,
            "min": 0,
            "orientation": "horizontal",
            "readout": true,
            "readout_format": "d",
            "step": 1,
            "style": "IPY_MODEL_fa023c0dd488405ca06962892f5859f2",
            "value": 57
          }
        },
        "922a55affe9642b0a3c53c267255baf2": {
          "model_module": "@jupyter-widgets/base",
          "model_name": "LayoutModel",
          "model_module_version": "1.2.0",
          "state": {
            "_model_module": "@jupyter-widgets/base",
            "_model_module_version": "1.2.0",
            "_model_name": "LayoutModel",
            "_view_count": null,
            "_view_module": "@jupyter-widgets/base",
            "_view_module_version": "1.2.0",
            "_view_name": "LayoutView",
            "align_content": null,
            "align_items": null,
            "align_self": null,
            "border": null,
            "bottom": null,
            "display": null,
            "flex": null,
            "flex_flow": null,
            "grid_area": null,
            "grid_auto_columns": null,
            "grid_auto_flow": null,
            "grid_auto_rows": null,
            "grid_column": null,
            "grid_gap": null,
            "grid_row": null,
            "grid_template_areas": null,
            "grid_template_columns": null,
            "grid_template_rows": null,
            "height": null,
            "justify_content": null,
            "justify_items": null,
            "left": null,
            "margin": null,
            "max_height": null,
            "max_width": null,
            "min_height": null,
            "min_width": null,
            "object_fit": null,
            "object_position": null,
            "order": null,
            "overflow": null,
            "overflow_x": null,
            "overflow_y": null,
            "padding": null,
            "right": null,
            "top": null,
            "visibility": null,
            "width": null
          }
        },
        "fa023c0dd488405ca06962892f5859f2": {
          "model_module": "@jupyter-widgets/controls",
          "model_name": "SliderStyleModel",
          "model_module_version": "1.5.0",
          "state": {
            "_model_module": "@jupyter-widgets/controls",
            "_model_module_version": "1.5.0",
            "_model_name": "SliderStyleModel",
            "_view_count": null,
            "_view_module": "@jupyter-widgets/base",
            "_view_module_version": "1.2.0",
            "_view_name": "StyleView",
            "description_width": "",
            "handle_color": null
          }
        }
      }
    }
  },
  "cells": [
    {
      "cell_type": "markdown",
      "metadata": {
        "id": "view-in-github",
        "colab_type": "text"
      },
      "source": [
        "<a href=\"https://colab.research.google.com/github/toni-ramchandani/AIMasterClassTTT/blob/main/Section_3_1_Colab%20Walkthrough_Google_Colab.ipynb\" target=\"_parent\"><img src=\"https://colab.research.google.com/assets/colab-badge.svg\" alt=\"Open In Colab\"/></a>"
      ]
    },
    {
      "cell_type": "markdown",
      "source": [
        "# 0.1 Google Colab\n",
        "\n",
        "#### **Introduction to Google Colab**\n",
        "**Google Colab** (short for Colaboratory) is a free, cloud-based platform provided by Google that allows users to write and execute Python code through the browser. It's particularly well-suited for machine learning, data analysis, and educational purposes. Key features include:\n",
        "\n",
        "- **Free access to GPUs and TPUs**: Google Colab offers free access to powerful GPUs and TPUs, which are essential for training large models quickly.\n",
        "- **Cloud storage integration**: Easily save and load files from Google Drive.\n",
        "- **Sharing and collaboration**: Share notebooks with others and collaborate in real-time, similar to Google Docs.\n",
        "- **Pre-installed libraries**: Colab comes with many popular Python libraries pre-installed, making it easy to get started with data science and machine learning projects.\n",
        "\n",
        "#### **Practical Example: Setting Up a Colab Notebook**\n",
        "1. **Creating a New Notebook**:\n",
        "   - Go to [Google Colab](https://colab.research.google.com/).\n",
        "   - Click on \"New Notebook\".\n",
        "   \n",
        "2. **Running Your First Python Script**:\n",
        "   - In the first cell, type the following Python code:\n",
        "     ```python\n",
        "     print(\"Hello, Colab!\")\n",
        "     ```\n",
        "   - Press the \"Run\" button (a play icon) on the left side of the cell to execute the code. You should see the output `Hello, Colab!` below the cell.\n",
        "\n",
        "#### **Collaborative Features**\n",
        "**Sharing Notebooks**:\n",
        "1. Click the \"Share\" button in the top-right corner of the Colab interface.\n",
        "2. Enter the email addresses of the people you want to share the notebook with or generate a shareable link.\n",
        "3. Set permissions (Viewer, Commenter, Editor) and click \"Send\" or \"Copy Link\".\n",
        "\n",
        "**Collaborating in Real-Time**:\n",
        "1. Share the notebook as described above.\n",
        "2. Collaborators can open the notebook and see changes in real-time, similar to Google Docs.\n",
        "\n",
        "#### **Using GPUs and TPUs**\n",
        "\n",
        "**Free GPUs**: Google Colab provides free access to NVIDIA GPUs (like Tesla K80s), allowing you to accelerate your computation without any cost.\n",
        "\n",
        "**TPUs**: Tensor Processing Units (TPUs) are also available on Colab, designed by Google to rapidly execute operations on large tensors, making them ideal for deep learning tasks.\n",
        "\n",
        "1. **Enabling Hardware Accelerators**:\n",
        "   - Go to `Runtime` > `Change runtime type`.\n",
        "   - Under `Hardware accelerator`, select `GPU` or `TPU` from the dropdown menu.\n",
        "   - Click `Save`.\n",
        "\n",
        "2. **Comparing Training Time with and without GPU**:\n",
        "   - Create a simple neural network and train it on a small dataset, first without a GPU and then with a GPU.\n",
        "   - Measure and compare the training times.\n",
        "   \n",
        "   **Example**:\n",
        "   ```python\n",
        "   import tensorflow as tf\n",
        "   from tensorflow.keras.datasets import mnist\n",
        "   from tensorflow.keras.models import Sequential\n",
        "   from tensorflow.keras.layers import Dense, Flatten\n",
        "   from tensorflow.keras.utils import to_categorical\n",
        "   \n",
        "   # Load data\n",
        "   (x_train, y_train), (x_test, y_test) = mnist.load_data()\n",
        "   x_train, x_test = x_train / 255.0, x_test / 255.0\n",
        "   y_train, y_test = to_categorical(y_train), to_categorical(y_test)\n",
        "   \n",
        "   # Build model\n",
        "   model = Sequential([\n",
        "       Flatten(input_shape=(28, 28)),\n",
        "       Dense(128, activation='relu'),\n",
        "       Dense(10, activation='softmax')\n",
        "   ])\n",
        "   \n",
        "   # Compile model\n",
        "   model.compile(optimizer='adam',\n",
        "                 loss='categorical_crossentropy',\n",
        "                 metrics=['accuracy'])\n",
        "   \n",
        "   # Train model\n",
        "   model.fit(x_train, y_train, epochs=5, batch_size=32, validation_split=0.2)\n",
        "   ```\n",
        "\n",
        "#### **Additional Tips:**\n",
        "- **Using Google Drive for Storage**:\n",
        "  - Mount Google Drive to your Colab notebook:\n",
        "    ```python\n",
        "    from google.colab import drive\n",
        "    drive.mount('/content/drive')\n",
        "    ```\n",
        "  - This allows you to save and load files directly from your Google Drive.\n",
        "\n",
        "Incorporating these steps with the appropriate colors and fonts will enhance readability and make your tutorial more engaging.\n",
        "\n",
        "#### **Colab Pro and Pro+**:\n",
        "\n",
        "If you opt for Colab Pro or Pro+, you gain priority access to more powerful GPUs and longer runtime sessions. This subscription is beneficial for more intensive computational tasks.\n",
        "Pro versions also offer more RAM and increased disk space for larger datasets."
      ],
      "metadata": {
        "id": "3nH1ebKxoGyQ"
      }
    },
    {
      "cell_type": "markdown",
      "source": [
        "The provided code demonstrates how to use TensorFlow in Google Colab to train a simple neural network model\n",
        "\n",
        "1. **Import TensorFlow**:\n",
        "   - The TensorFlow library is imported to provide the necessary functions and classes for building and training neural networks.\n",
        "\n",
        "2. **Check GPU Availability**:\n",
        "   - A check is performed to ensure that GPUs are available, confirming that the Colab environment is properly configured to use hardware accelerators.\n",
        "\n",
        "3. **Load and Normalize MNIST Dataset**:\n",
        "   - The MNIST dataset, which contains images of handwritten digits, is loaded. The pixel values of the images are normalized to the range [0, 1] for better performance during training.\n",
        "\n",
        "4. **Define the Neural Network Model**:\n",
        "   - A sequential neural network model is defined, consisting of:\n",
        "     - A Flatten layer to convert the 2D image input into a 1D array.\n",
        "     - A Dense layer with 512 units and ReLU activation function.\n",
        "     - A Dropout layer to prevent overfitting.\n",
        "     - A final Dense layer with 10 units corresponding to the digit classes.\n",
        "\n",
        "5. **Compile the Model**:\n",
        "   - The model is compiled using the Adam optimizer and Sparse Categorical Crossentropy loss function, preparing it for training.\n",
        "\n",
        "6. **Train the Model**:\n",
        "   - The model is trained on the training data for 5 epochs, utilizing the GPU to accelerate the process.\n",
        "\n",
        "7. **Evaluate the Model**:\n",
        "\n",
        "   - The model is evaluated on the test data, and the test accuracy is printed.\n",
        "\n",
        "This process demonstrates how to effectively use Google Colab's GPU resources to build, compile, and train a simple neural network on the MNIST dataset."
      ],
      "metadata": {
        "id": "jJKDBhp4bOn7"
      }
    },
    {
      "cell_type": "code",
      "source": [
        "import tensorflow as tf\n",
        "from tensorflow.keras.datasets import mnist\n",
        "from tensorflow.keras.models import Sequential\n",
        "from tensorflow.keras.layers import Dense, Flatten\n",
        "from tensorflow.keras.utils import to_categorical\n",
        "\n",
        "# Load data\n",
        "(x_train, y_train), (x_test, y_test) = mnist.load_data()\n",
        "x_train, x_test = x_train / 255.0, x_test / 255.0\n",
        "y_train, y_test = to_categorical(y_train), to_categorical(y_test)\n",
        "\n",
        "# Build model\n",
        "model = Sequential([\n",
        "    Flatten(input_shape=(28, 28)),\n",
        "    Dense(128, activation='relu'),\n",
        "    Dense(10, activation='softmax')\n",
        "])\n",
        "\n",
        "# Compile model\n",
        "model.compile(optimizer='adam',\n",
        "              loss='categorical_crossentropy',\n",
        "              metrics=['accuracy'])\n",
        "\n",
        "# Train model\n",
        "model.fit(x_train, y_train, epochs=5, batch_size=32, validation_split=0.2)"
      ],
      "metadata": {
        "colab": {
          "base_uri": "https://localhost:8080/"
        },
        "id": "F6yDPUd5bDyE",
        "outputId": "289d1cc6-c7cb-4cf7-b077-b045f4bd3693"
      },
      "execution_count": null,
      "outputs": [
        {
          "output_type": "stream",
          "name": "stdout",
          "text": [
            "Downloading data from https://storage.googleapis.com/tensorflow/tf-keras-datasets/mnist.npz\n",
            "11490434/11490434 [==============================] - 1s 0us/step\n",
            "Epoch 1/5\n",
            "1500/1500 [==============================] - 7s 4ms/step - loss: 0.2882 - accuracy: 0.9166 - val_loss: 0.1695 - val_accuracy: 0.9531\n",
            "Epoch 2/5\n",
            "1500/1500 [==============================] - 8s 5ms/step - loss: 0.1283 - accuracy: 0.9628 - val_loss: 0.1209 - val_accuracy: 0.9639\n",
            "Epoch 3/5\n",
            "1500/1500 [==============================] - 6s 4ms/step - loss: 0.0863 - accuracy: 0.9749 - val_loss: 0.0981 - val_accuracy: 0.9719\n",
            "Epoch 4/5\n",
            "1500/1500 [==============================] - 8s 5ms/step - loss: 0.0645 - accuracy: 0.9805 - val_loss: 0.1072 - val_accuracy: 0.9671\n",
            "Epoch 5/5\n",
            "1500/1500 [==============================] - 6s 4ms/step - loss: 0.0490 - accuracy: 0.9850 - val_loss: 0.0928 - val_accuracy: 0.9742\n"
          ]
        },
        {
          "output_type": "execute_result",
          "data": {
            "text/plain": [
              "<keras.src.callbacks.History at 0x78d62d6dc130>"
            ]
          },
          "metadata": {},
          "execution_count": 1
        }
      ]
    },
    {
      "cell_type": "code",
      "source": [
        "import tensorflow as tf\n",
        "\n",
        "# Check if GPU is available\n",
        "print(\"Num GPUs Available: \", len(tf.config.experimental.list_physical_devices('GPU')))\n",
        "\n",
        "# Load and prepare the MNIST dataset\n",
        "mnist = tf.keras.datasets.mnist\n",
        "(x_train, y_train), (x_test, y_test) = mnist.load_data()\n",
        "x_train, x_test = x_train / 255.0, x_test / 255.0\n",
        "\n",
        "# Define the neural network model\n",
        "model = tf.keras.models.Sequential([\n",
        "    tf.keras.layers.Flatten(input_shape=(28, 28)),\n",
        "    tf.keras.layers.Dense(512, activation='relu'),\n",
        "    tf.keras.layers.Dropout(0.2),\n",
        "    tf.keras.layers.Dense(10)\n",
        "])\n",
        "\n",
        "# Compile the model\n",
        "model.compile(optimizer='adam',\n",
        "              loss=tf.keras.losses.SparseCategoricalCrossentropy(from_logits=True),\n",
        "              metrics=['accuracy'])\n",
        "\n",
        "# Train the model\n",
        "model.fit(x_train, y_train, epochs=5)\n",
        "\n",
        "# Evaluate the model\n",
        "test_loss, test_acc = model.evaluate(x_test, y_test, verbose=2)\n",
        "print('\\nTest accuracy:', test_acc)\n"
      ],
      "metadata": {
        "colab": {
          "base_uri": "https://localhost:8080/"
        },
        "id": "Y0hgp-aBcNZV",
        "outputId": "120681ba-a1f1-4be0-db92-3a8945a16695"
      },
      "execution_count": null,
      "outputs": [
        {
          "output_type": "stream",
          "name": "stdout",
          "text": [
            "Num GPUs Available:  0\n",
            "Downloading data from https://storage.googleapis.com/tensorflow/tf-keras-datasets/mnist.npz\n",
            "11490434/11490434 [==============================] - 0s 0us/step\n",
            "Epoch 1/5\n",
            "1875/1875 [==============================] - 31s 14ms/step - loss: 0.2189 - accuracy: 0.9348\n",
            "Epoch 2/5\n",
            "1875/1875 [==============================] - 15s 8ms/step - loss: 0.0979 - accuracy: 0.9699\n",
            "Epoch 3/5\n",
            "1875/1875 [==============================] - 15s 8ms/step - loss: 0.0688 - accuracy: 0.9786\n",
            "Epoch 4/5\n",
            "1875/1875 [==============================] - 15s 8ms/step - loss: 0.0531 - accuracy: 0.9827\n",
            "Epoch 5/5\n",
            "1875/1875 [==============================] - 14s 8ms/step - loss: 0.0425 - accuracy: 0.9857\n",
            "313/313 - 1s - loss: 0.0684 - accuracy: 0.9790 - 981ms/epoch - 3ms/step\n",
            "\n",
            "Test accuracy: 0.9789999723434448\n"
          ]
        }
      ]
    },
    {
      "cell_type": "markdown",
      "source": [],
      "metadata": {
        "id": "5CgWCgw_dcKY"
      }
    },
    {
      "cell_type": "markdown",
      "source": [
        "Additional features of Google Colab that are valuable for users, especially when working with AI projects:\n",
        "\n",
        "### Additional Features of Google Colab\n",
        "\n",
        "---\n",
        "\n",
        "#### **Interactive Visualizations**\n",
        "- **Matplotlib Integration**: Colab supports interactive plots using Matplotlib.\n",
        "  ```python\n",
        "  import matplotlib.pyplot as plt\n",
        "  \n",
        "  # Example plot\n",
        "  plt.plot([1, 2, 3, 4], [10, 20, 25, 30])\n",
        "  plt.xlabel('X-axis label')\n",
        "  plt.ylabel('Y-axis label')\n",
        "  plt.title('Sample Plot')\n",
        "  plt.show()\n",
        "  ```\n",
        "\n",
        "- **Seaborn and Plotly**: Use Seaborn for statistical data visualization and Plotly for interactive plots.\n",
        "  ```python\n",
        "  import seaborn as sns\n",
        "  import plotly.express as px\n",
        "  \n",
        "  # Seaborn example\n",
        "  sns.set(style=\"darkgrid\")\n",
        "  tips = sns.load_dataset(\"tips\")\n",
        "  sns.relplot(x=\"total_bill\", y=\"tip\", hue=\"day\", data=tips)\n",
        "  \n",
        "  # Plotly example\n",
        "  df = px.data.iris()\n",
        "  fig = px.scatter(df, x='sepal_width', y='sepal_length', color='species')\n",
        "  fig.show()\n",
        "  ```\n",
        "\n",
        "#### **Markdown for Documentation**\n",
        "- **Rich Text Formatting**: Colab supports Markdown, allowing you to add headings, lists, links, images, and more for documenting your notebook.\n",
        "  ```markdown\n",
        "  # This is a Heading\n",
        "  **This is bold text**\n",
        "  *This is italic text*\n",
        "  \n",
        "  [Google Colab](https://colab.research.google.com/)\n",
        "  ```\n",
        "\n",
        "- **Embedding Images and Videos**: Include images and videos directly within your notebook for better explanation and visualization.\n",
        "  ```markdown\n",
        "  ![Alt Text](image_url)\n",
        "  \n",
        "  [![Alt Text](video_thumbnail_url)](video_url)\n",
        "  ```\n",
        "\n",
        "#### **Form and Widget Controls**\n",
        "- **Interactive Widgets**: Create forms and interactive widgets to make your notebooks more interactive.\n",
        "  ```python\n",
        "  from google.colab import widgets\n",
        "  import ipywidgets as widgets\n",
        "  \n",
        "  slider = widgets.IntSlider(value=50)\n",
        "  display(slider)\n",
        "  ```\n",
        "\n",
        "- **Input Forms**: Add input forms to your notebook for user interaction.\n",
        "  ```python\n",
        "  from IPython.display import display\n",
        "  import ipywidgets as widgets\n",
        "  \n",
        "  text = widgets.Text()\n",
        "  display(text)\n",
        "  ```\n",
        "\n",
        "#### **Version Control with Git**\n",
        "- **Cloning GitHub Repositories**: Easily clone GitHub repositories directly into your Colab environment.\n",
        "  ```python\n",
        "  !git clone https://github.com/username/repository.git\n",
        "  ```\n",
        "- **Pushing Changes**: After making changes, you can push them back to your GitHub repository.\n",
        "  ```python\n",
        "  !git add .\n",
        "  !git commit -m \"Commit message\"\n",
        "  !git push origin branch_name\n",
        "  ```\n",
        "\n",
        "#### **Integration with Google Drive**\n",
        "- **Mounting Google Drive**: Access your Google Drive files directly from Colab.\n",
        "  ```python\n",
        "  from google.colab import drive\n",
        "  drive.mount('/content/drive')\n",
        "  ```\n",
        "- **Saving and Loading Files**: Save your model and data files to Google Drive for persistence and easy access.\n",
        "  ```python\n",
        "  # Save a file to Google Drive\n",
        "  with open('/content/drive/My Drive/filename.txt', 'w') as f:\n",
        "      f.write('Hello, Google Drive!')\n",
        "\n",
        "  # Load a file from Google Drive\n",
        "  with open('/content/drive/My Drive/filename.txt', 'r') as f:\n",
        "      print(f.read())\n",
        "  ```\n",
        "\n",
        "#### **Custom Libraries and Modules**\n",
        "- **Installing Custom Libraries**: Install any Python library using pip within your notebook.\n",
        "  ```python\n",
        "  !pip install some-library\n",
        "  ```\n",
        "- **Importing Custom Modules**: Import and use custom Python modules from your Google Drive or GitHub.\n",
        "  ```python\n",
        "  import sys\n",
        "  sys.path.append('/content/drive/My Drive/my_custom_modules')\n",
        "  import my_module\n",
        "  ```\n",
        "\n",
        "#### **Magics Commands**\n",
        "- **%time and %%time**: Measure the execution time of your code cells.\n",
        "  ```python\n",
        "  %time\n",
        "  ```\n",
        "  ```python\n",
        "  %%time\n",
        "  ```\n",
        "- **%load**: Load code from an external script into a cell.\n",
        "  ```python\n",
        "  %load my_script.py\n",
        "  ```\n",
        "\n",
        "#### **Extensions and Plugins**\n",
        "- **Jupyter Notebook Extensions**: Enhance your Colab notebook with various Jupyter notebook extensions.\n",
        "  ```python\n",
        "  !pip install jupyter_contrib_nbextensions\n",
        "  !jupyter contrib nbextension install --user\n",
        "  ```\n",
        "\n",
        "---\n",
        "\n",
        "\n",
        "Google Colab offers a comprehensive and powerful environment for machine learning and data science projects. Its features range from GPU/TPU support and interactive visualizations to seamless integration with Google Drive and GitHub. Utilizing these features can significantly enhance your productivity and the effectiveness of your workflows.\n",
        "\n",
        "Would you like to delve deeper into any of these features or need examples for specific use cases?"
      ],
      "metadata": {
        "id": "hcH6NjKLddd6"
      }
    },
    {
      "cell_type": "code",
      "source": [
        "import matplotlib.pyplot as plt\n",
        "\n",
        "# Example plot\n",
        "plt.plot([1, 2, 3, 4], [10, 20, 25, 30])\n",
        "plt.xlabel('X-axis label')\n",
        "plt.ylabel('Y-axis label')\n",
        "plt.title('Sample Plot')\n",
        "plt.show()"
      ],
      "metadata": {
        "colab": {
          "base_uri": "https://localhost:8080/",
          "height": 472
        },
        "id": "8wC12HSjd0FB",
        "outputId": "c05d7038-53ce-49ba-d6bb-e970d307b76c"
      },
      "execution_count": null,
      "outputs": [
        {
          "output_type": "display_data",
          "data": {
            "text/plain": [
              "<Figure size 640x480 with 1 Axes>"
            ],
            "image/png": "[encoded data removed]"
          },
          "metadata": {}
        }
      ]
    },
    {
      "cell_type": "code",
      "source": [
        "import seaborn as sns\n",
        "import plotly.express as px\n",
        "\n",
        "# Seaborn example\n",
        "sns.set(style=\"darkgrid\")\n",
        "tips = sns.load_dataset(\"tips\")\n",
        "sns.relplot(x=\"total_bill\", y=\"tip\", hue=\"day\", data=tips)\n",
        "\n",
        "# Plotly example\n",
        "df = px.data.iris()\n",
        "fig = px.scatter(df, x='sepal_width', y='sepal_length', color='species')\n",
        "fig.show()"
      ],
      "metadata": {
        "colab": {
          "base_uri": "https://localhost:8080/",
          "height": 1000
        },
        "id": "_sVYXYAPd58C",
        "outputId": "6583279d-5350-425c-e975-5f5f0bafcfe2"
      },
      "execution_count": null,
      "outputs": [
        {
          "output_type": "display_data",
          "data": {
            "text/html": [
              "<html>\n",
              "<head><meta charset=\"utf-8\" /></head>\n",
              "<body>\n",
              "    <div>            <script src=\"https://cdnjs.cloudflare.com/ajax/libs/mathjax/2.7.5/MathJax.js?config=TeX-AMS-MML_SVG\"></script><script type=\"text/javascript\">if (window.MathJax && window.MathJax.Hub && window.MathJax.Hub.Config) {window.MathJax.Hub.Config({SVG: {font: \"STIX-Web\"}});}</script>                <script type=\"text/javascript\">window.PlotlyConfig = {MathJaxConfig: 'local'};</script>\n",
              "        <script charset=\"utf-8\" src=\"https://cdn.plot.ly/plotly-2.24.1.min.js\"></script>                <div id=\"48662e24-ec43-46e9-82bd-4d238d32a649\" class=\"plotly-graph-div\" style=\"height:525px; width:100%;\"></div>            <script type=\"text/javascript\">                                    window.PLOTLYENV=window.PLOTLYENV || {};                                    if (document.getElementById(\"48662e24-ec43-46e9-82bd-4d238d32a649\")) {                    Plotly.newPlot(                        \"48662e24-ec43-46e9-82bd-4d238d32a649\",                        [{\"hovertemplate\":\"species=setosa\\u003cbr\\u003esepal_width=%{x}\\u003cbr\\u003esepal_length=%{y}\\u003cextra\\u003e\\u003c\\u002fextra\\u003e\",\"legendgroup\":\"setosa\",\"marker\":{\"color\":\"#636efa\",\"symbol\":\"circle\"},\"mode\":\"markers\",\"name\":\"setosa\",\"orientation\":\"v\",\"showlegend\":true,\"x\":[3.5,3.0,3.2,3.1,3.6,3.9,3.4,3.4,2.9,3.1,3.7,3.4,3.0,3.0,4.0,4.4,3.9,3.5,3.8,3.8,3.4,3.7,3.6,3.3,3.4,3.0,3.4,3.5,3.4,3.2,3.1,3.4,4.1,4.2,3.1,3.2,3.5,3.1,3.0,3.4,3.5,2.3,3.2,3.5,3.8,3.0,3.8,3.2,3.7,3.3],\"xaxis\":\"x\",\"y\":[5.1,4.9,4.7,4.6,5.0,5.4,4.6,5.0,4.4,4.9,5.4,4.8,4.8,4.3,5.8,5.7,5.4,5.1,5.7,5.1,5.4,5.1,4.6,5.1,4.8,5.0,5.0,5.2,5.2,4.7,4.8,5.4,5.2,5.5,4.9,5.0,5.5,4.9,4.4,5.1,5.0,4.5,4.4,5.0,5.1,4.8,5.1,4.6,5.3,5.0],\"yaxis\":\"y\",\"type\":\"scatter\"},{\"hovertemplate\":\"species=versicolor\\u003cbr\\u003esepal_width=%{x}\\u003cbr\\u003esepal_length=%{y}\\u003cextra\\u003e\\u003c\\u002fextra\\u003e\",\"legendgroup\":\"versicolor\",\"marker\":{\"color\":\"#EF553B\",\"symbol\":\"circle\"},\"mode\":\"markers\",\"name\":\"versicolor\",\"orientation\":\"v\",\"showlegend\":true,\"x\":[3.2,3.2,3.1,2.3,2.8,2.8,3.3,2.4,2.9,2.7,2.0,3.0,2.2,2.9,2.9,3.1,3.0,2.7,2.2,2.5,3.2,2.8,2.5,2.8,2.9,3.0,2.8,3.0,2.9,2.6,2.4,2.4,2.7,2.7,3.0,3.4,3.1,2.3,3.0,2.5,2.6,3.0,2.6,2.3,2.7,3.0,2.9,2.9,2.5,2.8],\"xaxis\":\"x\",\"y\":[7.0,6.4,6.9,5.5,6.5,5.7,6.3,4.9,6.6,5.2,5.0,5.9,6.0,6.1,5.6,6.7,5.6,5.8,6.2,5.6,5.9,6.1,6.3,6.1,6.4,6.6,6.8,6.7,6.0,5.7,5.5,5.5,5.8,6.0,5.4,6.0,6.7,6.3,5.6,5.5,5.5,6.1,5.8,5.0,5.6,5.7,5.7,6.2,5.1,5.7],\"yaxis\":\"y\",\"type\":\"scatter\"},{\"hovertemplate\":\"species=virginica\\u003cbr\\u003esepal_width=%{x}\\u003cbr\\u003esepal_length=%{y}\\u003cextra\\u003e\\u003c\\u002fextra\\u003e\",\"legendgroup\":\"virginica\",\"marker\":{\"color\":\"#00cc96\",\"symbol\":\"circle\"},\"mode\":\"markers\",\"name\":\"virginica\",\"orientation\":\"v\",\"showlegend\":true,\"x\":[3.3,2.7,3.0,2.9,3.0,3.0,2.5,2.9,2.5,3.6,3.2,2.7,3.0,2.5,2.8,3.2,3.0,3.8,2.6,2.2,3.2,2.8,2.8,2.7,3.3,3.2,2.8,3.0,2.8,3.0,2.8,3.8,2.8,2.8,2.6,3.0,3.4,3.1,3.0,3.1,3.1,3.1,2.7,3.2,3.3,3.0,2.5,3.0,3.4,3.0],\"xaxis\":\"x\",\"y\":[6.3,5.8,7.1,6.3,6.5,7.6,4.9,7.3,6.7,7.2,6.5,6.4,6.8,5.7,5.8,6.4,6.5,7.7,7.7,6.0,6.9,5.6,7.7,6.3,6.7,7.2,6.2,6.1,6.4,7.2,7.4,7.9,6.4,6.3,6.1,7.7,6.3,6.4,6.0,6.9,6.7,6.9,5.8,6.8,6.7,6.7,6.3,6.5,6.2,5.9],\"yaxis\":\"y\",\"type\":\"scatter\"}],                        {\"template\":{\"data\":{\"histogram2dcontour\":[{\"type\":\"histogram2dcontour\",\"colorbar\":{\"outlinewidth\":0,\"ticks\":\"\"},\"colorscale\":[[0.0,\"#0d0887\"],[0.1111111111111111,\"#46039f\"],[0.2222222222222222,\"#7201a8\"],[0.3333333333333333,\"#9c179e\"],[0.4444444444444444,\"#bd3786\"],[0.5555555555555556,\"#d8576b\"],[0.6666666666666666,\"#ed7953\"],[0.7777777777777778,\"#fb9f3a\"],[0.8888888888888888,\"#fdca26\"],[1.0,\"#f0f921\"]]}],\"choropleth\":[{\"type\":\"choropleth\",\"colorbar\":{\"outlinewidth\":0,\"ticks\":\"\"}}],\"histogram2d\":[{\"type\":\"histogram2d\",\"colorbar\":{\"outlinewidth\":0,\"ticks\":\"\"},\"colorscale\":[[0.0,\"#0d0887\"],[0.1111111111111111,\"#46039f\"],[0.2222222222222222,\"#7201a8\"],[0.3333333333333333,\"#9c179e\"],[0.4444444444444444,\"#bd3786\"],[0.5555555555555556,\"#d8576b\"],[0.6666666666666666,\"#ed7953\"],[0.7777777777777778,\"#fb9f3a\"],[0.8888888888888888,\"#fdca26\"],[1.0,\"#f0f921\"]]}],\"heatmap\":[{\"type\":\"heatmap\",\"colorbar\":{\"outlinewidth\":0,\"ticks\":\"\"},\"colorscale\":[[0.0,\"#0d0887\"],[0.1111111111111111,\"#46039f\"],[0.2222222222222222,\"#7201a8\"],[0.3333333333333333,\"#9c179e\"],[0.4444444444444444,\"#bd3786\"],[0.5555555555555556,\"#d8576b\"],[0.6666666666666666,\"#ed7953\"],[0.7777777777777778,\"#fb9f3a\"],[0.8888888888888888,\"#fdca26\"],[1.0,\"#f0f921\"]]}],\"heatmapgl\":[{\"type\":\"heatmapgl\",\"colorbar\":{\"outlinewidth\":0,\"ticks\":\"\"},\"colorscale\":[[0.0,\"#0d0887\"],[0.1111111111111111,\"#46039f\"],[0.2222222222222222,\"#7201a8\"],[0.3333333333333333,\"#9c179e\"],[0.4444444444444444,\"#bd3786\"],[0.5555555555555556,\"#d8576b\"],[0.6666666666666666,\"#ed7953\"],[0.7777777777777778,\"#fb9f3a\"],[0.8888888888888888,\"#fdca26\"],[1.0,\"#f0f921\"]]}],\"contourcarpet\":[{\"type\":\"contourcarpet\",\"colorbar\":{\"outlinewidth\":0,\"ticks\":\"\"}}],\"contour\":[{\"type\":\"contour\",\"colorbar\":{\"outlinewidth\":0,\"ticks\":\"\"},\"colorscale\":[[0.0,\"#0d0887\"],[0.1111111111111111,\"#46039f\"],[0.2222222222222222,\"#7201a8\"],[0.3333333333333333,\"#9c179e\"],[0.4444444444444444,\"#bd3786\"],[0.5555555555555556,\"#d8576b\"],[0.6666666666666666,\"#ed7953\"],[0.7777777777777778,\"#fb9f3a\"],[0.8888888888888888,\"#fdca26\"],[1.0,\"#f0f921\"]]}],\"surface\":[{\"type\":\"surface\",\"colorbar\":{\"outlinewidth\":0,\"ticks\":\"\"},\"colorscale\":[[0.0,\"#0d0887\"],[0.1111111111111111,\"#46039f\"],[0.2222222222222222,\"#7201a8\"],[0.3333333333333333,\"#9c179e\"],[0.4444444444444444,\"#bd3786\"],[0.5555555555555556,\"#d8576b\"],[0.6666666666666666,\"#ed7953\"],[0.7777777777777778,\"#fb9f3a\"],[0.8888888888888888,\"#fdca26\"],[1.0,\"#f0f921\"]]}],\"mesh3d\":[{\"type\":\"mesh3d\",\"colorbar\":{\"outlinewidth\":0,\"ticks\":\"\"}}],\"scatter\":[{\"fillpattern\":{\"fillmode\":\"overlay\",\"size\":10,\"solidity\":0.2},\"type\":\"scatter\"}],\"parcoords\":[{\"type\":\"parcoords\",\"line\":{\"colorbar\":{\"outlinewidth\":0,\"ticks\":\"\"}}}],\"scatterpolargl\":[{\"type\":\"scatterpolargl\",\"marker\":{\"colorbar\":{\"outlinewidth\":0,\"ticks\":\"\"}}}],\"bar\":[{\"error_x\":{\"color\":\"#2a3f5f\"},\"error_y\":{\"color\":\"#2a3f5f\"},\"marker\":{\"line\":{\"color\":\"#E5ECF6\",\"width\":0.5},\"pattern\":{\"fillmode\":\"overlay\",\"size\":10,\"solidity\":0.2}},\"type\":\"bar\"}],\"scattergeo\":[{\"type\":\"scattergeo\",\"marker\":{\"colorbar\":{\"outlinewidth\":0,\"ticks\":\"\"}}}],\"scatterpolar\":[{\"type\":\"scatterpolar\",\"marker\":{\"colorbar\":{\"outlinewidth\":0,\"ticks\":\"\"}}}],\"histogram\":[{\"marker\":{\"pattern\":{\"fillmode\":\"overlay\",\"size\":10,\"solidity\":0.2}},\"type\":\"histogram\"}],\"scattergl\":[{\"type\":\"scattergl\",\"marker\":{\"colorbar\":{\"outlinewidth\":0,\"ticks\":\"\"}}}],\"scatter3d\":[{\"type\":\"scatter3d\",\"line\":{\"colorbar\":{\"outlinewidth\":0,\"ticks\":\"\"}},\"marker\":{\"colorbar\":{\"outlinewidth\":0,\"ticks\":\"\"}}}],\"scattermapbox\":[{\"type\":\"scattermapbox\",\"marker\":{\"colorbar\":{\"outlinewidth\":0,\"ticks\":\"\"}}}],\"scatterternary\":[{\"type\":\"scatterternary\",\"marker\":{\"colorbar\":{\"outlinewidth\":0,\"ticks\":\"\"}}}],\"scattercarpet\":[{\"type\":\"scattercarpet\",\"marker\":{\"colorbar\":{\"outlinewidth\":0,\"ticks\":\"\"}}}],\"carpet\":[{\"aaxis\":{\"endlinecolor\":\"#2a3f5f\",\"gridcolor\":\"white\",\"linecolor\":\"white\",\"minorgridcolor\":\"white\",\"startlinecolor\":\"#2a3f5f\"},\"baxis\":{\"endlinecolor\":\"#2a3f5f\",\"gridcolor\":\"white\",\"linecolor\":\"white\",\"minorgridcolor\":\"white\",\"startlinecolor\":\"#2a3f5f\"},\"type\":\"carpet\"}],\"table\":[{\"cells\":{\"fill\":{\"color\":\"#EBF0F8\"},\"line\":{\"color\":\"white\"}},\"header\":{\"fill\":{\"color\":\"#C8D4E3\"},\"line\":{\"color\":\"white\"}},\"type\":\"table\"}],\"barpolar\":[{\"marker\":{\"line\":{\"color\":\"#E5ECF6\",\"width\":0.5},\"pattern\":{\"fillmode\":\"overlay\",\"size\":10,\"solidity\":0.2}},\"type\":\"barpolar\"}],\"pie\":[{\"automargin\":true,\"type\":\"pie\"}]},\"layout\":{\"autotypenumbers\":\"strict\",\"colorway\":[\"#636efa\",\"#EF553B\",\"#00cc96\",\"#ab63fa\",\"#FFA15A\",\"#19d3f3\",\"#FF6692\",\"#B6E880\",\"#FF97FF\",\"#FECB52\"],\"font\":{\"color\":\"#2a3f5f\"},\"hovermode\":\"closest\",\"hoverlabel\":{\"align\":\"left\"},\"paper_bgcolor\":\"white\",\"plot_bgcolor\":\"#E5ECF6\",\"polar\":{\"bgcolor\":\"#E5ECF6\",\"angularaxis\":{\"gridcolor\":\"white\",\"linecolor\":\"white\",\"ticks\":\"\"},\"radialaxis\":{\"gridcolor\":\"white\",\"linecolor\":\"white\",\"ticks\":\"\"}},\"ternary\":{\"bgcolor\":\"#E5ECF6\",\"aaxis\":{\"gridcolor\":\"white\",\"linecolor\":\"white\",\"ticks\":\"\"},\"baxis\":{\"gridcolor\":\"white\",\"linecolor\":\"white\",\"ticks\":\"\"},\"caxis\":{\"gridcolor\":\"white\",\"linecolor\":\"white\",\"ticks\":\"\"}},\"coloraxis\":{\"colorbar\":{\"outlinewidth\":0,\"ticks\":\"\"}},\"colorscale\":{\"sequential\":[[0.0,\"#0d0887\"],[0.1111111111111111,\"#46039f\"],[0.2222222222222222,\"#7201a8\"],[0.3333333333333333,\"#9c179e\"],[0.4444444444444444,\"#bd3786\"],[0.5555555555555556,\"#d8576b\"],[0.6666666666666666,\"#ed7953\"],[0.7777777777777778,\"#fb9f3a\"],[0.8888888888888888,\"#fdca26\"],[1.0,\"#f0f921\"]],\"sequentialminus\":[[0.0,\"#0d0887\"],[0.1111111111111111,\"#46039f\"],[0.2222222222222222,\"#7201a8\"],[0.3333333333333333,\"#9c179e\"],[0.4444444444444444,\"#bd3786\"],[0.5555555555555556,\"#d8576b\"],[0.6666666666666666,\"#ed7953\"],[0.7777777777777778,\"#fb9f3a\"],[0.8888888888888888,\"#fdca26\"],[1.0,\"#f0f921\"]],\"diverging\":[[0,\"#8e0152\"],[0.1,\"#c51b7d\"],[0.2,\"#de77ae\"],[0.3,\"#f1b6da\"],[0.4,\"#fde0ef\"],[0.5,\"#f7f7f7\"],[0.6,\"#e6f5d0\"],[0.7,\"#b8e186\"],[0.8,\"#7fbc41\"],[0.9,\"#4d9221\"],[1,\"#276419\"]]},\"xaxis\":{\"gridcolor\":\"white\",\"linecolor\":\"white\",\"ticks\":\"\",\"title\":{\"standoff\":15},\"zerolinecolor\":\"white\",\"automargin\":true,\"zerolinewidth\":2},\"yaxis\":{\"gridcolor\":\"white\",\"linecolor\":\"white\",\"ticks\":\"\",\"title\":{\"standoff\":15},\"zerolinecolor\":\"white\",\"automargin\":true,\"zerolinewidth\":2},\"scene\":{\"xaxis\":{\"backgroundcolor\":\"#E5ECF6\",\"gridcolor\":\"white\",\"linecolor\":\"white\",\"showbackground\":true,\"ticks\":\"\",\"zerolinecolor\":\"white\",\"gridwidth\":2},\"yaxis\":{\"backgroundcolor\":\"#E5ECF6\",\"gridcolor\":\"white\",\"linecolor\":\"white\",\"showbackground\":true,\"ticks\":\"\",\"zerolinecolor\":\"white\",\"gridwidth\":2},\"zaxis\":{\"backgroundcolor\":\"#E5ECF6\",\"gridcolor\":\"white\",\"linecolor\":\"white\",\"showbackground\":true,\"ticks\":\"\",\"zerolinecolor\":\"white\",\"gridwidth\":2}},\"shapedefaults\":{\"line\":{\"color\":\"#2a3f5f\"}},\"annotationdefaults\":{\"arrowcolor\":\"#2a3f5f\",\"arrowhead\":0,\"arrowwidth\":1},\"geo\":{\"bgcolor\":\"white\",\"landcolor\":\"#E5ECF6\",\"subunitcolor\":\"white\",\"showland\":true,\"showlakes\":true,\"lakecolor\":\"white\"},\"title\":{\"x\":0.05},\"mapbox\":{\"style\":\"light\"}}},\"xaxis\":{\"anchor\":\"y\",\"domain\":[0.0,1.0],\"title\":{\"text\":\"sepal_width\"}},\"yaxis\":{\"anchor\":\"x\",\"domain\":[0.0,1.0],\"title\":{\"text\":\"sepal_length\"}},\"legend\":{\"title\":{\"text\":\"species\"},\"tracegroupgap\":0},\"margin\":{\"t\":60}},                        {\"responsive\": true}                    ).then(function(){\n",
              "                            \n",
              "var gd = document.getElementById('48662e24-ec43-46e9-82bd-4d238d32a649');\n",
              "var x = new MutationObserver(function (mutations, observer) {{\n",
              "        var display = window.getComputedStyle(gd).display;\n",
              "        if (!display || display === 'none') {{\n",
              "            console.log([gd, 'removed!']);\n",
              "            Plotly.purge(gd);\n",
              "            observer.disconnect();\n",
              "        }}\n",
              "}});\n",
              "\n",
              "// Listen for the removal of the full notebook cells\n",
              "var notebookContainer = gd.closest('#notebook-container');\n",
              "if (notebookContainer) {{\n",
              "    x.observe(notebookContainer, {childList: true});\n",
              "}}\n",
              "\n",
              "// Listen for the clearing of the current output cell\n",
              "var outputEl = gd.closest('.output');\n",
              "if (outputEl) {{\n",
              "    x.observe(outputEl, {childList: true});\n",
              "}}\n",
              "\n",
              "                        })                };                            </script>        </div>\n",
              "</body>\n",
              "</html>"
            ]
          },
          "metadata": {}
        },
        {
          "output_type": "display_data",
          "data": {
            "text/plain": [
              "<Figure size 590x500 with 1 Axes>"
            ],
            "image/png": "[encoded data removed]"
          },
          "metadata": {}
        }
      ]
    },
    {
      "cell_type": "code",
      "source": [
        "from google.colab import widgets\n",
        "import ipywidgets as widgets\n",
        "\n",
        "slider = widgets.IntSlider(value=50)\n",
        "display(slider)\n"
      ],
      "metadata": {
        "colab": {
          "base_uri": "https://localhost:8080/",
          "height": 49,
          "referenced_widgets": [
            "0dce79f4ee534420a4ef933ec215c823",
            "922a55affe9642b0a3c53c267255baf2",
            "fa023c0dd488405ca06962892f5859f2"
          ]
        },
        "id": "xcID0OoHd6mv",
        "outputId": "ed2e9561-0b78-4d33-ef43-74c3e96dd400"
      },
      "execution_count": null,
      "outputs": [
        {
          "output_type": "display_data",
          "data": {
            "text/plain": [
              "IntSlider(value=50)"
            ],
            "application/vnd.jupyter.widget-view+json": {
              "version_major": 2,
              "version_minor": 0,
              "model_id": "0dce79f4ee534420a4ef933ec215c823"
            }
          },
          "metadata": {}
        }
      ]
    },
    {
      "cell_type": "code",
      "source": [
        "from IPython.display import display\n",
        "import ipywidgets as widgets\n",
        "\n",
        "text = widgets.Text()\n",
        "display(text)\n"
      ],
      "metadata": {
        "colab": {
          "base_uri": "https://localhost:8080/",
          "height": 49,
          "referenced_widgets": [
            "c8e59d0cadb2469ab5da4fb8f23a2bcc",
            "c5111e36e8f64b049ad56f916c8e48c1",
            "38728a1a77874979b279669bf4360fd3"
          ]
        },
        "id": "pR9ebWZHeFUS",
        "outputId": "1a1a348c-fcb6-4d88-fcba-50ea926692ff"
      },
      "execution_count": null,
      "outputs": [
        {
          "output_type": "display_data",
          "data": {
            "text/plain": [
              "Text(value='')"
            ],
            "application/vnd.jupyter.widget-view+json": {
              "version_major": 2,
              "version_minor": 0,
              "model_id": "c8e59d0cadb2469ab5da4fb8f23a2bcc"
            }
          },
          "metadata": {}
        }
      ]
    },
    {
      "cell_type": "markdown",
      "source": [
        "# ***Tis is text***\n",
        "\n",
        "1.   List item\n",
        "\n",
        "*   List item\n",
        "\n",
        "---\n",
        "\n",
        "✈\n",
        "*   List item\n",
        "\n",
        "\n",
        "2.   List item\n",
        "\n"
      ],
      "metadata": {
        "id": "uJe4K9av2k44"
      }
    },
    {
      "cell_type": "code",
      "source": [
        "!pip install pandas\n"
      ],
      "metadata": {
        "colab": {
          "base_uri": "https://localhost:8080/"
        },
        "id": "FkvUe3rWeKEq",
        "outputId": "036c1791-280a-432f-fd99-2adc2739f66a"
      },
      "execution_count": null,
      "outputs": [
        {
          "output_type": "stream",
          "name": "stdout",
          "text": [
            "Requirement already satisfied: pandas in /usr/local/lib/python3.10/dist-packages (2.0.3)\n",
            "Requirement already satisfied: python-dateutil>=2.8.2 in /usr/local/lib/python3.10/dist-packages (from pandas) (2.8.2)\n",
            "Requirement already satisfied: pytz>=2020.1 in /usr/local/lib/python3.10/dist-packages (from pandas) (2023.4)\n",
            "Requirement already satisfied: tzdata>=2022.1 in /usr/local/lib/python3.10/dist-packages (from pandas) (2024.1)\n",
            "Requirement already satisfied: numpy>=1.21.0 in /usr/local/lib/python3.10/dist-packages (from pandas) (1.25.2)\n",
            "Requirement already satisfied: six>=1.5 in /usr/local/lib/python3.10/dist-packages (from python-dateutil>=2.8.2->pandas) (1.16.0)\n"
          ]
        }
      ]
    },
    {
      "cell_type": "code",
      "source": [],
      "metadata": {
        "id": "nnAdwnrDeUES"
      },
      "execution_count": null,
      "outputs": []
    },
    {
      "cell_type": "markdown",
      "source": [
        "### Detailed Guide on Magic Commands in Google Colab\n",
        "\n",
        "Magic commands are a set of commands provided by IPython that are designed to facilitate common tasks and enhance the interactivity of your Colab notebooks. They are divided into two categories: line magics, which operate on a single line of input, and cell magics, which operate on multiple lines of input.\n",
        "\n",
        "#### **1. Line Magics**\n",
        "\n",
        "Line magics start with a single `%` character and apply only to the line they are called on.\n",
        "\n",
        "**%time**\n",
        "- Measures the execution time of a single statement.\n",
        "  ```python\n",
        "  %time sum([i**2 for i in range(10000)])\n",
        "  ```\n",
        "\n",
        "**%timeit**\n",
        "- Measures the execution time of a single statement multiple times to get a more accurate estimate.\n",
        "  ```python\n",
        "  %timeit sum([i**2 for i in range(10000)])\n",
        "  ```\n",
        "\n",
        "**%who**\n",
        "- Lists all variables of a specified type that are defined in the notebook.\n",
        "  ```python\n",
        "  %who int\n",
        "  ```\n",
        "\n",
        "**%whos**\n",
        "- Provides a detailed list of all variables currently defined, including their type, data/info, and size.\n",
        "  ```python\n",
        "  %whos\n",
        "  ```\n",
        "\n",
        "**%load**\n",
        "- Loads code from an external script into a cell.\n",
        "  ```python\n",
        "  %load my_script.py\n",
        "  ```\n",
        "\n",
        "**%matplotlib inline**\n",
        "- Ensures that Matplotlib plots are displayed inline within the notebook.\n",
        "  ```python\n",
        "  %matplotlib inline\n",
        "  ```\n",
        "\n",
        "#### **2. Cell Magics**\n",
        "\n",
        "Cell magics start with `%%` and apply to the entire cell.\n",
        "\n",
        "**%%time**\n",
        "- Measures the execution time of the entire cell.\n",
        "  ```python\n",
        "  %%time\n",
        "  sum([i**2 for i in range(10000)])\n",
        "  ```\n",
        "\n",
        "**%%timeit**\n",
        "- Measures the execution time of the entire cell multiple times.\n",
        "  ```python\n",
        "  %%timeit\n",
        "  sum([i**2 for i in range(10000)])\n",
        "  ```\n",
        "\n",
        "**%%writefile**\n",
        "- Writes the contents of the cell to a file.\n",
        "  ```python\n",
        "  %%writefile my_script.py\n",
        "  def hello():\n",
        "      print(\"Hello, world!\")\n",
        "  ```\n",
        "\n",
        "**%%capture**\n",
        "- Captures the output of the cell and prevents it from being displayed in the notebook.\n",
        "  ```python\n",
        "  %%capture cap --no-stderr\n",
        "  print(\"This will be captured.\")\n",
        "  ```\n",
        "\n",
        "**%%bash**\n",
        "- Allows you to run bash commands directly from the cell.\n",
        "  ```python\n",
        "  %%bash\n",
        "  echo \"This is a bash command.\"\n",
        "  ```\n",
        "\n",
        "**%%html**\n",
        "- Renders the cell contents as HTML.\n",
        "  ```python\n",
        "  %%html\n",
        "  <h1>This is a heading</h1>\n",
        "  <p>This is a paragraph.</p>\n",
        "  ```\n",
        "\n",
        "**%%javascript**\n",
        "- Executes JavaScript code.\n",
        "  ```python\n",
        "  %%javascript\n",
        "  alert('This is a JavaScript alert!')\n",
        "  ```\n",
        "\n",
        "**%%latex**\n",
        "- Renders LaTeX equations and text.\n",
        "  ```python\n",
        "  %%latex\n",
        "  \\[\n",
        "  E = mc^2\n",
        "  \\]\n",
        "  ```\n",
        "\n",
        "**%%markdown**\n",
        "- Renders Markdown text.\n",
        "  ```python\n",
        "  %%markdown\n",
        "  # This is a Markdown Heading\n",
        "  - This is a list item\n",
        "  ```\n",
        "\n",
        "**%%prun**\n",
        "- Performs a performance analysis on the code in the cell.\n",
        "  ```python\n",
        "  %%prun\n",
        "  sum([i**2 for i in range(10000)])\n",
        "  ```\n",
        "\n",
        "#### **Examples of Using Magic Commands in Google Colab**\n",
        "\n",
        "**1. Timing Code Execution with %time and %%time**\n",
        "\n",
        "```python\n",
        "# Using %time to time a single line of code\n",
        "%time sum([i**2 for i in range(10000)])\n",
        "\n",
        "# Using %%time to time multiple lines of code in a cell\n",
        "%%time\n",
        "total = 0\n",
        "for i in range(10000):\n",
        "    total += i**2\n",
        "```\n",
        "\n",
        "**2. Writing Code to a File with %%writefile**\n",
        "\n",
        "```python\n",
        "%%writefile my_script.py\n",
        "def hello():\n",
        "    print(\"Hello, world!\")\n",
        "\n",
        "hello()\n",
        "```\n",
        "\n",
        "**3. Running Bash Commands with %%bash**\n",
        "\n",
        "```python\n",
        "%%bash\n",
        "echo \"Listing all files in the current directory\"\n",
        "ls\n",
        "```\n",
        "\n",
        "**4. Rendering HTML and Markdown**\n",
        "\n",
        "```python\n",
        "%%html\n",
        "<h1>This is a heading</h1>\n",
        "<p>This is a paragraph.</p>\n",
        "\n",
        "%%markdown\n",
        "# This is a Markdown Heading\n",
        "- This is a list item\n",
        "```\n",
        "\n",
        "**5. Capturing Output with %%capture**\n",
        "\n",
        "```python\n",
        "%%capture cap --no-stderr\n",
        "print(\"This will be captured.\")\n",
        "print(\"This will also be captured.\")\n",
        "\n",
        "# Display the captured output\n",
        "cap.show()\n",
        "```\n",
        "\n",
        "---\n",
        "\n",
        "\n",
        "\n",
        "Magic commands in Google Colab enhance the functionality and interactivity of your notebooks. They streamline various tasks, from timing code execution and writing files to running bash commands and rendering HTML. Leveraging these commands can significantly improve your productivity and efficiency when working on AI projects.\n",
        "\n",
        "Would you like more examples or further details on any specific magic commands?"
      ],
      "metadata": {
        "id": "5DhCx7S-eqlB"
      }
    },
    {
      "cell_type": "code",
      "source": [
        "%%latex\n",
        "\\[\n",
        "E = mc^2\n",
        "\\]"
      ],
      "metadata": {
        "colab": {
          "base_uri": "https://localhost:8080/",
          "height": 69
        },
        "id": "czJ9DsT7e1_s",
        "outputId": "023b5a8b-553c-4b46-a187-a56ad2c6b518"
      },
      "execution_count": null,
      "outputs": [
        {
          "output_type": "display_data",
          "data": {
            "text/plain": [
              "<IPython.core.display.Latex object>"
            ],
            "text/latex": "\\[\nE = mc^2\n\\]\n"
          },
          "metadata": {}
        }
      ]
    },
    {
      "cell_type": "code",
      "source": [
        "%%time\n",
        "sum([i**2 for i in range(10000)])"
      ],
      "metadata": {
        "colab": {
          "base_uri": "https://localhost:8080/"
        },
        "id": "vgDduRAle2e0",
        "outputId": "ca773344-5739-4f05-8eb0-7f4c20a46d6b"
      },
      "execution_count": null,
      "outputs": [
        {
          "output_type": "stream",
          "name": "stdout",
          "text": [
            "CPU times: user 5.44 ms, sys: 964 µs, total: 6.4 ms\n",
            "Wall time: 24.7 ms\n"
          ]
        },
        {
          "output_type": "execute_result",
          "data": {
            "text/plain": [
              "333283335000"
            ]
          },
          "metadata": {},
          "execution_count": 10
        }
      ]
    },
    {
      "cell_type": "code",
      "source": [
        "%%prun\n",
        "sum([i**2 for i in range(10000)])"
      ],
      "metadata": {
        "colab": {
          "base_uri": "https://localhost:8080/"
        },
        "id": "TSCrdBpWe8cP",
        "outputId": "007e1652-fff1-48f0-93d3-376d6a9652d2"
      },
      "execution_count": null,
      "outputs": [
        {
          "output_type": "stream",
          "name": "stdout",
          "text": [
            " "
          ]
        }
      ]
    },
    {
      "cell_type": "code",
      "source": [
        "%%markdown\n",
        "# This is a Markdown Heading\n",
        "- This is a list item"
      ],
      "metadata": {
        "id": "Pu2LzflofTu9",
        "colab": {
          "base_uri": "https://localhost:8080/",
          "height": 100
        },
        "outputId": "13b92707-e8cd-464e-a01f-c6544ae90e08"
      },
      "execution_count": null,
      "outputs": [
        {
          "output_type": "display_data",
          "data": {
            "text/plain": [
              "<IPython.core.display.Markdown object>"
            ],
            "text/markdown": "# This is a Markdown Heading\n- This is a list item\n"
          },
          "metadata": {}
        }
      ]
    },
    {
      "cell_type": "code",
      "source": [
        "%%html\n",
        "<h1>This is a heading</h1>\n",
        "<p>This is a paragraph.</p>"
      ],
      "metadata": {
        "id": "p1c2ZoU4B2OD",
        "outputId": "5b515770-890c-493c-e571-cecb0d178c6e",
        "colab": {
          "base_uri": "https://localhost:8080/",
          "height": 100
        }
      },
      "execution_count": null,
      "outputs": [
        {
          "output_type": "display_data",
          "data": {
            "text/plain": [
              "<IPython.core.display.HTML object>"
            ],
            "text/html": [
              "<h1>This is a heading</h1>\n",
              "<p>This is a paragraph.</p>\n"
            ]
          },
          "metadata": {}
        }
      ]
    }
  ]
}
