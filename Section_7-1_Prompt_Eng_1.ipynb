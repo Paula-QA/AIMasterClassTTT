{
  "nbformat": 4,
  "nbformat_minor": 0,
  "metadata": {
    "colab": {
      "provenance": [],
      "include_colab_link": true
    },
    "kernelspec": {
      "name": "python3",
      "display_name": "Python 3"
    },
    "language_info": {
      "name": "python"
    }
  },
  "cells": [
    {
      "cell_type": "markdown",
      "metadata": {
        "id": "view-in-github",
        "colab_type": "text"
      },
      "source": [
        "<a href=\"https://colab.research.google.com/github/toni-ramchandani/AIMasterClassTTT/blob/main/Section_7-1_Prompt_Eng_1.ipynb\" target=\"_parent\"><img src=\"https://colab.research.google.com/assets/colab-badge.svg\" alt=\"Open In Colab\"/></a>"
      ]
    },
    {
      "cell_type": "markdown",
      "source": [
        "# Guidelines for Prompting\n",
        "In this lesson, you'll practice two prompting principles and their related tactics in order to write effective prompts for large language models.\n",
        "\n",
        "## Setup\n",
        "#### Load the API key and relevant Python libaries."
      ],
      "metadata": {
        "id": "DBRGquet_pVB"
      }
    },
    {
      "cell_type": "markdown",
      "source": [
        "In this course, we've provided some code that loads the OpenAI API key for you."
      ],
      "metadata": {
        "id": "141y776q_xh-"
      }
    },
    {
      "cell_type": "code",
      "source": [
        "!pip install openai==0.28"
      ],
      "metadata": {
        "colab": {
          "base_uri": "https://localhost:8080/",
          "height": 591
        },
        "id": "L65LO8WItKj0",
        "outputId": "e2111f13-5317-4eb7-982c-ccf8363af137"
      },
      "execution_count": 4,
      "outputs": [
        {
          "output_type": "stream",
          "name": "stdout",
          "text": [
            "Collecting openai==0.28\n",
            "  Downloading openai-0.28.0-py3-none-any.whl.metadata (13 kB)\n",
            "Requirement already satisfied: requests>=2.20 in /usr/local/lib/python3.10/dist-packages (from openai==0.28) (2.32.3)\n",
            "Requirement already satisfied: tqdm in /usr/local/lib/python3.10/dist-packages (from openai==0.28) (4.66.6)\n",
            "Requirement already satisfied: aiohttp in /usr/local/lib/python3.10/dist-packages (from openai==0.28) (3.11.2)\n",
            "Requirement already satisfied: charset-normalizer<4,>=2 in /usr/local/lib/python3.10/dist-packages (from requests>=2.20->openai==0.28) (3.4.0)\n",
            "Requirement already satisfied: idna<4,>=2.5 in /usr/local/lib/python3.10/dist-packages (from requests>=2.20->openai==0.28) (3.10)\n",
            "Requirement already satisfied: urllib3<3,>=1.21.1 in /usr/local/lib/python3.10/dist-packages (from requests>=2.20->openai==0.28) (2.2.3)\n",
            "Requirement already satisfied: certifi>=2017.4.17 in /usr/local/lib/python3.10/dist-packages (from requests>=2.20->openai==0.28) (2024.8.30)\n",
            "Requirement already satisfied: aiohappyeyeballs>=2.3.0 in /usr/local/lib/python3.10/dist-packages (from aiohttp->openai==0.28) (2.4.3)\n",
            "Requirement already satisfied: aiosignal>=1.1.2 in /usr/local/lib/python3.10/dist-packages (from aiohttp->openai==0.28) (1.3.1)\n",
            "Requirement already satisfied: attrs>=17.3.0 in /usr/local/lib/python3.10/dist-packages (from aiohttp->openai==0.28) (24.2.0)\n",
            "Requirement already satisfied: frozenlist>=1.1.1 in /usr/local/lib/python3.10/dist-packages (from aiohttp->openai==0.28) (1.5.0)\n",
            "Requirement already satisfied: multidict<7.0,>=4.5 in /usr/local/lib/python3.10/dist-packages (from aiohttp->openai==0.28) (6.1.0)\n",
            "Requirement already satisfied: propcache>=0.2.0 in /usr/local/lib/python3.10/dist-packages (from aiohttp->openai==0.28) (0.2.0)\n",
            "Requirement already satisfied: yarl<2.0,>=1.17.0 in /usr/local/lib/python3.10/dist-packages (from aiohttp->openai==0.28) (1.17.2)\n",
            "Requirement already satisfied: async-timeout<6.0,>=4.0 in /usr/local/lib/python3.10/dist-packages (from aiohttp->openai==0.28) (4.0.3)\n",
            "Requirement already satisfied: typing-extensions>=4.1.0 in /usr/local/lib/python3.10/dist-packages (from multidict<7.0,>=4.5->aiohttp->openai==0.28) (4.12.2)\n",
            "Downloading openai-0.28.0-py3-none-any.whl (76 kB)\n",
            "\u001b[?25l   \u001b[90m━━━━━━━━━━━━━━━━━━━━━━━━━━━━━━━━━━━━━━━━\u001b[0m \u001b[32m0.0/76.5 kB\u001b[0m \u001b[31m?\u001b[0m eta \u001b[36m-:--:--\u001b[0m\r\u001b[2K   \u001b[90m━━━━━━━━━━━━━━━━━━━━━━━━━━━━━━━━━━━━━━━━\u001b[0m \u001b[32m76.5/76.5 kB\u001b[0m \u001b[31m7.0 MB/s\u001b[0m eta \u001b[36m0:00:00\u001b[0m\n",
            "\u001b[?25hInstalling collected packages: openai\n",
            "  Attempting uninstall: openai\n",
            "    Found existing installation: openai 1.54.4\n",
            "    Uninstalling openai-1.54.4:\n",
            "      Successfully uninstalled openai-1.54.4\n",
            "Successfully installed openai-0.28.0\n"
          ]
        },
        {
          "output_type": "display_data",
          "data": {
            "application/vnd.colab-display-data+json": {
              "pip_warning": {
                "packages": [
                  "openai"
                ]
              },
              "id": "6b8ca2e2714a4b9492114e3af64ccee4"
            }
          },
          "metadata": {}
        }
      ]
    },
    {
      "cell_type": "code",
      "source": [
        "import openai\n",
        "import os\n",
        "\n",
        "from google.colab import userdata\n",
        "\n",
        "\n",
        "openai.api_key  = userdata.get('OpenAI')"
      ],
      "metadata": {
        "id": "12WLF6e9_zuv"
      },
      "execution_count": 1,
      "outputs": []
    },
    {
      "cell_type": "markdown",
      "source": [
        "#### helper function\n",
        "Throughout this course, we will use OpenAI's `gpt-3.5-turbo` model and the [chat completions endpoint](https://platform.openai.com/docs/guides/chat).\n",
        "\n",
        "This helper function will make it easier to use prompts and look at the generated outputs:"
      ],
      "metadata": {
        "id": "kcgEj0dA_5gn"
      }
    },
    {
      "cell_type": "code",
      "source": [
        "def get_completion(prompt, model=\"gpt-4o-mini\"):\n",
        "    messages = [{\"role\": \"user\", \"content\": prompt}]\n",
        "    response = openai.ChatCompletion.create(\n",
        "        model=model,\n",
        "        messages=messages,\n",
        "        temperature=0, # this is the degree of randomness of the model's output\n",
        "    )\n",
        "    return response.choices[0].message[\"content\"]"
      ],
      "metadata": {
        "id": "jQV3FEV9_9zl"
      },
      "execution_count": 2,
      "outputs": []
    },
    {
      "cell_type": "markdown",
      "source": [
        "## Prompting Principles\n",
        "- **Principle 1: Write clear and specific instructions**\n",
        "- **Principle 2: Give the model time to “think”**\n",
        "\n",
        "### Tactics\n",
        "\n",
        "### Principle 1: Write clear and specific instructions\n",
        "#### Tactic 1: Use delimiters to clearly indicate distinct parts of the input\n",
        "- Delimiters can be anything like: ```, \"\"\", < >, `<tag> </tag>`, `:`"
      ],
      "metadata": {
        "id": "5GWLzbFcAFSg"
      }
    },
    {
      "cell_type": "code",
      "source": [
        "text = f\"\"\"\n",
        "You should express what you want a model to do by \\\n",
        "providing instructions that are as clear and \\\n",
        "specific as you can possibly make them. \\\n",
        "This will guide the model towards the desired output, \\\n",
        "and reduce the chances of receiving irrelevant \\\n",
        "or incorrect responses. Don't confuse writing a \\\n",
        "clear prompt with writing a short prompt. \\\n",
        "In many cases, longer prompts provide more clarity \\\n",
        "and context for the model, which can lead to \\\n",
        "more detailed and relevant outputs.\n",
        "\"\"\"\n",
        "prompt = f\"\"\"\n",
        "Summarize the text delimited by triple backticks \\\n",
        "into a single sentence.\n",
        "```{text}```\n",
        "\"\"\"\n",
        "response = get_completion(prompt)\n",
        "print(response)"
      ],
      "metadata": {
        "id": "8q8gh5geAH3U",
        "colab": {
          "base_uri": "https://localhost:8080/"
        },
        "outputId": "31be48e5-a01d-4a93-9107-523c9651380d"
      },
      "execution_count": 3,
      "outputs": [
        {
          "output_type": "stream",
          "name": "stdout",
          "text": [
            "To achieve the desired output from a model, provide clear and specific instructions, as longer prompts often offer more clarity and context, reducing the likelihood of irrelevant or incorrect responses.\n"
          ]
        }
      ]
    },
    {
      "cell_type": "markdown",
      "source": [
        "#### Tactic 2: Ask for a structured output\n",
        "- JSON, HTML"
      ],
      "metadata": {
        "id": "W17RwlNeAL6U"
      }
    },
    {
      "cell_type": "code",
      "source": [
        "prompt = f\"\"\"\n",
        "Generate a list of three made-up book titles along \\\n",
        "with their authors and genres.\n",
        "Provide them in JSON format with the following keys:\n",
        "book_id, title, author, genre.\n",
        "\"\"\"\n",
        "response = get_completion(prompt)\n",
        "print(response)"
      ],
      "metadata": {
        "id": "pI6Tz4beAPl0",
        "colab": {
          "base_uri": "https://localhost:8080/"
        },
        "outputId": "76a38374-c893-44ab-d29f-6d63898d8bc3"
      },
      "execution_count": 4,
      "outputs": [
        {
          "output_type": "stream",
          "name": "stdout",
          "text": [
            "```json\n",
            "[\n",
            "    {\n",
            "        \"book_id\": 1,\n",
            "        \"title\": \"Whispers of the Forgotten Forest\",\n",
            "        \"author\": \"Elena Moonshadow\",\n",
            "        \"genre\": \"Fantasy\"\n",
            "    },\n",
            "    {\n",
            "        \"book_id\": 2,\n",
            "        \"title\": \"The Clockmaker's Secret\",\n",
            "        \"author\": \"Jasper Thorne\",\n",
            "        \"genre\": \"Mystery\"\n",
            "    },\n",
            "    {\n",
            "        \"book_id\": 3,\n",
            "        \"title\": \"Echoes of Tomorrow\",\n",
            "        \"author\": \"Sophie Lark\",\n",
            "        \"genre\": \"Science Fiction\"\n",
            "    }\n",
            "]\n",
            "```\n"
          ]
        }
      ]
    },
    {
      "cell_type": "markdown",
      "source": [
        "#### Tactic 3: Ask the model to check whether conditions are satisfied"
      ],
      "metadata": {
        "id": "wwOWU_quATVi"
      }
    },
    {
      "cell_type": "code",
      "source": [
        "text_1 = f\"\"\"\n",
        "Making a cup of tea is easy! First, you need to get some \\\n",
        "water boiling. While that's happening, \\\n",
        "grab a cup and put a tea bag in it. Once the water is \\\n",
        "hot enough, just pour it over the tea bag. \\\n",
        "Let it sit for a bit so the tea can steep. After a \\\n",
        "few minutes, take out the tea bag. If you \\\n",
        "like, you can add some sugar or milk to taste. \\\n",
        "And that's it! You've got yourself a delicious \\\n",
        "cup of tea to enjoy.\n",
        "\"\"\"\n",
        "prompt = f\"\"\"\n",
        "You will be provided with text delimited by triple quotes.\n",
        "If it contains a sequence of instructions, \\\n",
        "re-write those instructions in the following format:\n",
        "\n",
        "Step 1 - ...\n",
        "Step 2 - …\n",
        "…\n",
        "Step N - …\n",
        "\n",
        "If the text does not contain a sequence of instructions, \\\n",
        "then simply write \\\"No steps provided.\\\"\n",
        "\n",
        "\\\"\\\"\\\"{text_1}\\\"\\\"\\\"\n",
        "\"\"\"\n",
        "response = get_completion(prompt)\n",
        "print(\"Completion for Text 1:\")\n",
        "print(response)"
      ],
      "metadata": {
        "id": "LTyp5F-LAV7h",
        "colab": {
          "base_uri": "https://localhost:8080/"
        },
        "outputId": "eb0567f4-9676-4511-9e6e-6eb344306bf0"
      },
      "execution_count": 5,
      "outputs": [
        {
          "output_type": "stream",
          "name": "stdout",
          "text": [
            "Completion for Text 1:\n",
            "Step 1 - Get some water boiling.  \n",
            "Step 2 - Grab a cup and put a tea bag in it.  \n",
            "Step 3 - Once the water is hot enough, pour it over the tea bag.  \n",
            "Step 4 - Let it sit for a bit so the tea can steep.  \n",
            "Step 5 - After a few minutes, take out the tea bag.  \n",
            "Step 6 - If you like, add some sugar or milk to taste.  \n",
            "Step 7 - Enjoy your delicious cup of tea!\n"
          ]
        }
      ]
    },
    {
      "cell_type": "code",
      "source": [
        "text_2 = f\"\"\"\n",
        "The sun is shining brightly today, and the birds are \\\n",
        "singing. It's a beautiful day to go for a \\\n",
        "walk in the park. The flowers are blooming, and the \\\n",
        "trees are swaying gently in the breeze. People \\\n",
        "are out and about, enjoying the lovely weather. \\\n",
        "Some are having picnics, while others are playing \\\n",
        "games or simply relaxing on the grass. It's a \\\n",
        "perfect day to spend time outdoors and appreciate the \\\n",
        "beauty of nature.\n",
        "\"\"\"\n",
        "prompt = f\"\"\"\n",
        "You will be provided with text delimited by triple quotes.\n",
        "If it contains a sequence of instructions, \\\n",
        "re-write those instructions in the following format:\n",
        "\n",
        "Step 1 - ...\n",
        "Step 2 - …\n",
        "…\n",
        "Step N - …\n",
        "\n",
        "If the text does not contain a sequence of instructions, \\\n",
        "then simply write \\\"No steps provided.\\\"\n",
        "\n",
        "\\\"\\\"\\\"{text_2}\\\"\\\"\\\"\n",
        "\"\"\"\n",
        "response = get_completion(prompt)\n",
        "print(\"Completion for Text 2:\")\n",
        "print(response)"
      ],
      "metadata": {
        "id": "4kKcajHLAY0E",
        "colab": {
          "base_uri": "https://localhost:8080/"
        },
        "outputId": "73ea6d47-55bc-4874-9b44-709799a35cce"
      },
      "execution_count": 6,
      "outputs": [
        {
          "output_type": "stream",
          "name": "stdout",
          "text": [
            "Completion for Text 2:\n",
            "No steps provided.\n"
          ]
        }
      ]
    },
    {
      "cell_type": "markdown",
      "source": [
        "#### Tactic 4: \"Few-shot\" prompting"
      ],
      "metadata": {
        "id": "9SkdYATrAcAH"
      }
    },
    {
      "cell_type": "code",
      "source": [
        "prompt = f\"\"\"\n",
        "Your task is to answer in a consistent style.\n",
        "\n",
        "<child>: Teach me about patience.\n",
        "\n",
        "<grandparent>: The river that carves the deepest \\\n",
        "valley flows from a modest spring; the \\\n",
        "grandest symphony originates from a single note; \\\n",
        "the most intricate tapestry begins with a solitary thread.\n",
        "\n",
        "<child>: Teach me about resilience.\n",
        "\"\"\"\n",
        "response = get_completion(prompt)\n",
        "print(response)"
      ],
      "metadata": {
        "id": "BCGJJTHPAeAD",
        "colab": {
          "base_uri": "https://localhost:8080/"
        },
        "outputId": "35d313e9-6d4f-4682-d5a6-6405acbd748a"
      },
      "execution_count": 7,
      "outputs": [
        {
          "output_type": "stream",
          "name": "stdout",
          "text": [
            "<grandparent>: The mighty oak stands tall after weathering countless storms; the phoenix rises anew from its ashes; the diamond, forged under immense pressure, shines brightest in the light.\n"
          ]
        }
      ]
    },
    {
      "cell_type": "markdown",
      "source": [
        "### Principle 2: Give the model time to “think”\n",
        "\n",
        "#### Tactic 1: Specify the steps required to complete a task"
      ],
      "metadata": {
        "id": "pjswK-IjAisD"
      }
    },
    {
      "cell_type": "code",
      "source": [
        "text = f\"\"\"\n",
        "In a charming village, siblings Jack and Jill set out on \\\n",
        "a quest to fetch water from a hilltop \\\n",
        "well. As they climbed, singing joyfully, misfortune \\\n",
        "struck—Jack tripped on a stone and tumbled \\\n",
        "down the hill, with Jill following suit. \\\n",
        "Though slightly battered, the pair returned home to \\\n",
        "comforting embraces. Despite the mishap, \\\n",
        "their adventurous spirits remained undimmed, and they \\\n",
        "continued exploring with delight.\n",
        "\"\"\"\n",
        "# example 1\n",
        "prompt_1 = f\"\"\"\n",
        "Perform the following actions:\n",
        "1 - Summarize the following text delimited by triple \\\n",
        "backticks with 1 sentence.\n",
        "2 - Translate the summary into French.\n",
        "3 - List each name in the French summary.\n",
        "4 - Output a json object that contains the following \\\n",
        "keys: french_summary, num_names.\n",
        "\n",
        "Separate your answers with line breaks.\n",
        "\n",
        "Text:\n",
        "```{text}```\n",
        "\"\"\"\n",
        "response = get_completion(prompt_1)\n",
        "print(\"Completion for prompt 1:\")\n",
        "print(response)"
      ],
      "metadata": {
        "id": "dCFByJ0HAk_o",
        "colab": {
          "base_uri": "https://localhost:8080/"
        },
        "outputId": "03d61428-6b61-4c71-c282-b96ac3bb7131"
      },
      "execution_count": 8,
      "outputs": [
        {
          "output_type": "stream",
          "name": "stdout",
          "text": [
            "Completion for prompt 1:\n",
            "Jack and Jill, siblings from a charming village, embarked on a quest for water but faced misfortune when Jack fell down a hill, yet they returned home undeterred and continued their adventures. \n",
            "\n",
            "Jack et Jill, des frères et sœurs d'un charmant village, se sont lancés dans une quête d'eau mais ont rencontré des malheurs lorsque Jack est tombé d'une colline, mais ils sont rentrés chez eux sans se décourager et ont continué leurs aventures.\n",
            "\n",
            "Jack, Jill\n",
            "\n",
            "{\n",
            "  \"french_summary\": \"Jack et Jill, des frères et sœurs d'un charmant village, se sont lancés dans une quête d'eau mais ont rencontré des malheurs lorsque Jack est tombé d'une colline, mais ils sont rentrés chez eux sans se décourager et ont continué leurs aventures.\",\n",
            "  \"num_names\": 2\n",
            "}\n"
          ]
        }
      ]
    },
    {
      "cell_type": "markdown",
      "source": [
        "#### Ask for output in a specified format"
      ],
      "metadata": {
        "id": "ERn00uD2AqRF"
      }
    },
    {
      "cell_type": "code",
      "source": [
        "prompt_2 = f\"\"\"\n",
        "Your task is to perform the following actions:\n",
        "1 - Summarize the following text delimited by\n",
        "  <> with 1 sentence.\n",
        "2 - Translate the summary into French.\n",
        "3 - List each name in the French summary.\n",
        "4 - Output a json object that contains the\n",
        "  following keys: french_summary, num_names.\n",
        "\n",
        "Use the following format:\n",
        "Text: <text to summarize>\n",
        "Summary: <summary>\n",
        "Translation: <summary translation>\n",
        "Names: <list of names in Italian summary>\n",
        "Output JSON: <json with summary and num_names>\n",
        "\n",
        "Text: <{text}>\n",
        "\"\"\"\n",
        "response = get_completion(prompt_2)\n",
        "print(\"\\nCompletion for prompt 2:\")\n",
        "print(response)"
      ],
      "metadata": {
        "id": "OotovChsAshF",
        "colab": {
          "base_uri": "https://localhost:8080/"
        },
        "outputId": "60de4e38-aba9-4fc1-dd7d-4395748002e7"
      },
      "execution_count": 9,
      "outputs": [
        {
          "output_type": "stream",
          "name": "stdout",
          "text": [
            "\n",
            "Completion for prompt 2:\n",
            "Summary: Siblings Jack and Jill embark on a joyful quest to fetch water but face misfortune when Jack falls down the hill, yet they return home undeterred and continue their adventures.  \n",
            "Translation: Les frères et sœurs Jack et Jill se lancent dans une quête joyeuse pour chercher de l'eau mais font face à un malheur lorsque Jack tombe de la colline, mais ils rentrent chez eux sans se décourager et continuent leurs aventures.  \n",
            "Names: [Jack, Jill]  \n",
            "Output JSON: {\"french_summary\":\"Les frères et sœurs Jack et Jill se lancent dans une quête joyeuse pour chercher de l'eau mais font face à un malheur lorsque Jack tombe de la colline, mais ils rentrent chez eux sans se décourager et continuent leurs aventures.\",\"num_names\":2}\n"
          ]
        }
      ]
    },
    {
      "cell_type": "markdown",
      "source": [
        "#### Tactic 2: Instruct the model to work out its own solution before rushing to a conclusion"
      ],
      "metadata": {
        "id": "zJvwvtopAvk3"
      }
    },
    {
      "cell_type": "code",
      "source": [
        "prompt = f\"\"\"\n",
        "Determine if the student's solution is correct or not.\n",
        "\n",
        "Question:\n",
        "I'm building a solar power installation and I need \\\n",
        " help working out the financials.\n",
        "- Land costs $100 / square foot\n",
        "- I can buy solar panels for $250 / square foot\n",
        "- I negotiated a contract for maintenance that will cost \\\n",
        "me a flat $100k per year, and an additional $10 / square \\\n",
        "foot\n",
        "What is the total cost for the first year of operations\n",
        "as a function of the number of square feet.\n",
        "\n",
        "Student's Solution:\n",
        "Let x be the size of the installation in square feet.\n",
        "Costs:\n",
        "1. Land cost: 100x\n",
        "2. Solar panel cost: 250x\n",
        "3. Maintenance cost: 100,000 + 100x\n",
        "Total cost: 100x + 250x + 100,000 + 100x = 450x + 100,000\n",
        "\"\"\"\n",
        "response = get_completion(prompt)\n",
        "print(response)"
      ],
      "metadata": {
        "id": "ncINy2wkAytb",
        "colab": {
          "base_uri": "https://localhost:8080/"
        },
        "outputId": "a8ef2f1f-1859-4e45-9fad-8a0fdf3253d9"
      },
      "execution_count": 10,
      "outputs": [
        {
          "output_type": "stream",
          "name": "stdout",
          "text": [
            "The student's solution is mostly correct, but there is a small error in the calculation of the maintenance cost. Let's break it down step by step.\n",
            "\n",
            "1. **Land cost**: The cost of land is $100 per square foot, so for \\( x \\) square feet, the cost is:\n",
            "   \\[\n",
            "   100x\n",
            "   \\]\n",
            "\n",
            "2. **Solar panel cost**: The cost of solar panels is $250 per square foot, so for \\( x \\) square feet, the cost is:\n",
            "   \\[\n",
            "   250x\n",
            "   \\]\n",
            "\n",
            "3. **Maintenance cost**: The maintenance cost consists of a flat fee of $100,000 plus an additional $10 per square foot. Therefore, for \\( x \\) square feet, the maintenance cost is:\n",
            "   \\[\n",
            "   100,000 + 10x\n",
            "   \\]\n",
            "\n",
            "Now, we can combine all these costs to find the total cost for the first year of operations as a function of the number of square feet \\( x \\):\n",
            "\\[\n",
            "\\text{Total cost} = \\text{Land cost} + \\text{Solar panel cost} + \\text{Maintenance cost}\n",
            "\\]\n",
            "\\[\n",
            "\\text{Total cost} = 100x + 250x + (100,000 + 10x)\n",
            "\\]\n",
            "\\[\n",
            "\\text{Total cost} = 100x + 250x + 100,000 + 10x\n",
            "\\]\n",
            "\\[\n",
            "\\text{Total cost} = (100x + 250x + 10x) + 100,000\n",
            "\\]\n",
            "\\[\n",
            "\\text{Total cost} = 360x + 100,000\n",
            "\\]\n",
            "\n",
            "The student's final expression was \\( 450x + 100,000 \\), which is incorrect. The correct total cost for the first year of operations as a function of the number of square feet \\( x \\) is:\n",
            "\\[\n",
            "\\text{Total cost} = 360x + 100,000\n",
            "\\]\n",
            "\n",
            "In conclusion, the student's solution is incorrect due to the miscalculation of the maintenance cost. The correct total cost should be \\( 360x + 100,000 \\).\n"
          ]
        }
      ]
    },
    {
      "cell_type": "markdown",
      "source": [
        "#### Note that the student's solution is actually not correct.\n",
        "#### We can fix this by instructing the model to work out its own solution first."
      ],
      "metadata": {
        "id": "oKon0Aj3A2b3"
      }
    },
    {
      "cell_type": "code",
      "source": [
        "prompt = f\"\"\"\n",
        "Your task is to determine if the student's solution \\\n",
        "is correct or not.\n",
        "To solve the problem do the following:\n",
        "- First, work out your own solution to the problem.\n",
        "- Then compare your solution to the student's solution \\\n",
        "and evaluate if the student's solution is correct or not.\n",
        "Don't decide if the student's solution is correct until\n",
        "you have done the problem yourself.\n",
        "\n",
        "Use the following format:\n",
        "Question:\n",
        "```\n",
        "question here\n",
        "```\n",
        "Student's solution:\n",
        "```\n",
        "student's solution here\n",
        "```\n",
        "Actual solution:\n",
        "```\n",
        "steps to work out the solution and your solution here\n",
        "```\n",
        "Is the student's solution the same as actual solution \\\n",
        "just calculated:\n",
        "```\n",
        "yes or no\n",
        "```\n",
        "Student grade:\n",
        "```\n",
        "correct or incorrect\n",
        "```\n",
        "\n",
        "Question:\n",
        "```\n",
        "I'm building a solar power installation and I need help \\\n",
        "working out the financials.\n",
        "- Land costs $100 / square foot\n",
        "- I can buy solar panels for $250 / square foot\n",
        "- I negotiated a contract for maintenance that will cost \\\n",
        "me a flat $100k per year, and an additional $10 / square \\\n",
        "foot\n",
        "What is the total cost for the first year of operations \\\n",
        "as a function of the number of square feet.\n",
        "```\n",
        "Student's solution:\n",
        "```\n",
        "Let x be the size of the installation in square feet.\n",
        "Costs:\n",
        "1. Land cost: 100x\n",
        "2. Solar panel cost: 250x\n",
        "3. Maintenance cost: 100,000 + 100x\n",
        "Total cost: 100x + 250x + 100,000 + 100x = 450x + 100,000\n",
        "```\n",
        "Actual solution:\n",
        "\"\"\"\n",
        "response = get_completion(prompt)\n",
        "print(response)"
      ],
      "metadata": {
        "id": "XWVltxA2A4tv",
        "colab": {
          "base_uri": "https://localhost:8080/"
        },
        "outputId": "9de5f85a-9809-4d1a-8fca-983aa5f18a80"
      },
      "execution_count": 11,
      "outputs": [
        {
          "output_type": "stream",
          "name": "stdout",
          "text": [
            "To solve the problem, we need to calculate the total cost for the first year of operations based on the given costs per square foot and the fixed maintenance cost.\n",
            "\n",
            "1. **Define the variable**: Let \\( x \\) be the size of the installation in square feet.\n",
            "\n",
            "2. **Calculate the costs**:\n",
            "   - **Land cost**: The cost of land is $100 per square foot, so for \\( x \\) square feet, the land cost is:\n",
            "     \\[\n",
            "     \\text{Land cost} = 100x\n",
            "     \\]\n",
            "   - **Solar panel cost**: The cost of solar panels is $250 per square foot, so for \\( x \\) square feet, the solar panel cost is:\n",
            "     \\[\n",
            "     \\text{Solar panel cost} = 250x\n",
            "     \\]\n",
            "   - **Maintenance cost**: The maintenance cost consists of a flat fee of $100,000 plus an additional $10 per square foot. Therefore, the maintenance cost is:\n",
            "     \\[\n",
            "     \\text{Maintenance cost} = 100,000 + 10x\n",
            "     \\]\n",
            "\n",
            "3. **Total cost**: Now, we can sum all these costs to find the total cost for the first year:\n",
            "   \\[\n",
            "   \\text{Total cost} = \\text{Land cost} + \\text{Solar panel cost} + \\text{Maintenance cost}\n",
            "   \\]\n",
            "   Substituting the expressions we calculated:\n",
            "   \\[\n",
            "   \\text{Total cost} = 100x + 250x + (100,000 + 10x)\n",
            "   \\]\n",
            "   Combining like terms:\n",
            "   \\[\n",
            "   \\text{Total cost} = (100x + 250x + 10x) + 100,000 = 360x + 100,000\n",
            "   \\]\n",
            "\n",
            "Thus, the total cost for the first year of operations as a function of the number of square feet \\( x \\) is:\n",
            "\\[\n",
            "\\text{Total cost} = 360x + 100,000\n",
            "\\]\n",
            "\n",
            "Now, let's compare this with the student's solution.\n",
            "\n",
            "Student's solution:\n",
            "```\n",
            "Let x be the size of the installation in square feet.\n",
            "Costs:\n",
            "1. Land cost: 100x\n",
            "2. Solar panel cost: 250x\n",
            "3. Maintenance cost: 100,000 + 100x\n",
            "Total cost: 100x + 250x + 100,000 + 100x = 450x + 100,000\n",
            "```\n",
            "\n",
            "Actual solution:\n",
            "```\n",
            "Total cost = 360x + 100,000\n",
            "```\n",
            "\n",
            "Is the student's solution the same as the actual solution just calculated:\n",
            "```\n",
            "no\n",
            "```\n",
            "Student grade:\n",
            "```\n",
            "incorrect\n",
            "```\n"
          ]
        }
      ]
    },
    {
      "cell_type": "markdown",
      "source": [
        "## Model Limitations: Hallucinations\n",
        "- Boie is a real company, the product name is not real."
      ],
      "metadata": {
        "id": "ZldnpL2EA8Y6"
      }
    },
    {
      "cell_type": "code",
      "source": [
        "prompt = f\"\"\"\n",
        "Tell me about AeroGlide UltraSlim Smart Toothbrush by Boie\n",
        "\"\"\"\n",
        "response = get_completion(prompt)\n",
        "print(response)"
      ],
      "metadata": {
        "id": "sCwZBbeGBAA4",
        "colab": {
          "base_uri": "https://localhost:8080/"
        },
        "outputId": "7b72d31e-dd5e-421a-d9bc-a39e674870ad"
      },
      "execution_count": 12,
      "outputs": [
        {
          "output_type": "stream",
          "name": "stdout",
          "text": [
            "The AeroGlide UltraSlim Smart Toothbrush by Boie is designed to enhance oral hygiene through advanced technology and innovative design. Here are some key features and aspects of the toothbrush:\n",
            "\n",
            "1. **Slim Design**: The UltraSlim design makes it easy to handle and maneuver, allowing users to reach all areas of the mouth comfortably.\n",
            "\n",
            "2. **Smart Technology**: The toothbrush often includes smart features such as Bluetooth connectivity, which can sync with a mobile app. This app may provide feedback on brushing habits, track progress, and offer personalized recommendations for improving oral care.\n",
            "\n",
            "3. **Sustainability**: Boie is known for its commitment to sustainability. The toothbrush may feature replaceable brush heads, reducing waste compared to traditional toothbrushes that are discarded entirely.\n",
            "\n",
            "4. **Effective Cleaning**: The brush typically utilizes advanced bristle technology to ensure effective plaque removal and promote healthier gums.\n",
            "\n",
            "5. **User-Friendly**: The design is often user-friendly, with features like a built-in timer to encourage proper brushing duration and pressure sensors to prevent excessive force during brushing.\n",
            "\n",
            "6. **Battery Life**: The toothbrush may come with a long-lasting battery, ensuring that it can be used for extended periods without frequent recharging.\n",
            "\n",
            "7. **Aesthetic Appeal**: The design is often sleek and modern, appealing to consumers looking for a stylish addition to their oral care routine.\n",
            "\n",
            "For the most accurate and detailed information, including specifications and user reviews, it's best to check the official Boie website or trusted retailers.\n"
          ]
        }
      ]
    },
    {
      "cell_type": "markdown",
      "source": [
        "## Try experimenting on your own!"
      ],
      "metadata": {
        "id": "ShlD6Mp_BC81"
      }
    },
    {
      "cell_type": "markdown",
      "source": [
        "#### Notes on using the OpenAI API outside of this classroom\n",
        "\n",
        "To install the OpenAI Python library:\n",
        "```\n",
        "!pip install openai\n",
        "```\n",
        "\n",
        "The library needs to be configured with your account's secret key, which is available on the [website](https://platform.openai.com/account/api-keys).\n",
        "\n",
        "You can either set it as the `OPENAI_API_KEY` environment variable before using the library:\n",
        " ```\n",
        " !export OPENAI_API_KEY='sk-...'\n",
        " ```\n",
        "\n",
        "Or, set `openai.api_key` to its value:\n",
        "\n",
        "```\n",
        "import openai\n",
        "openai.api_key = \"sk-...\"\n",
        "```"
      ],
      "metadata": {
        "id": "ziFeaBi4BIdz"
      }
    },
    {
      "cell_type": "markdown",
      "source": [
        "#### A note about the backslash\n",
        "- In the course, we are using a backslash `\\` to make the text fit on the screen without inserting newline '\\n' characters.\n",
        "- GPT-3 isn't really affected whether you insert newline characters or not.  But when working with LLMs in general, you may consider whether newline characters in your prompt may affect the model's performance."
      ],
      "metadata": {
        "id": "368galN-BQD1"
      }
    }
  ]
}