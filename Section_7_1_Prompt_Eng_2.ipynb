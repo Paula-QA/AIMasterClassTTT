{
  "nbformat": 4,
  "nbformat_minor": 0,
  "metadata": {
    "colab": {
      "provenance": [],
      "authorship_tag": "ABX9TyNjLgY8kqLdAP2hJgUzcAFW",
      "include_colab_link": true
    },
    "kernelspec": {
      "name": "python3",
      "display_name": "Python 3"
    },
    "language_info": {
      "name": "python"
    }
  },
  "cells": [
    {
      "cell_type": "markdown",
      "metadata": {
        "id": "view-in-github",
        "colab_type": "text"
      },
      "source": [
        "<a href=\"https://colab.research.google.com/github/toni-ramchandani/AIMasterClassTTT/blob/main/Section_7_1_Prompt_Eng_2.ipynb\" target=\"_parent\"><img src=\"https://colab.research.google.com/assets/colab-badge.svg\" alt=\"Open In Colab\"/></a>"
      ]
    },
    {
      "cell_type": "code",
      "execution_count": 1,
      "metadata": {
        "colab": {
          "base_uri": "https://localhost:8080/"
        },
        "id": "xGNi2KVoiNMZ",
        "outputId": "17d61bde-e43d-4dfb-ac88-d3a5b500f319"
      },
      "outputs": [
        {
          "output_type": "stream",
          "name": "stdout",
          "text": [
            "Collecting openai==0.28\n",
            "  Downloading openai-0.28.0-py3-none-any.whl.metadata (13 kB)\n",
            "Requirement already satisfied: requests>=2.20 in /usr/local/lib/python3.10/dist-packages (from openai==0.28) (2.32.3)\n",
            "Requirement already satisfied: tqdm in /usr/local/lib/python3.10/dist-packages (from openai==0.28) (4.66.6)\n",
            "Requirement already satisfied: aiohttp in /usr/local/lib/python3.10/dist-packages (from openai==0.28) (3.11.2)\n",
            "Requirement already satisfied: charset-normalizer<4,>=2 in /usr/local/lib/python3.10/dist-packages (from requests>=2.20->openai==0.28) (3.4.0)\n",
            "Requirement already satisfied: idna<4,>=2.5 in /usr/local/lib/python3.10/dist-packages (from requests>=2.20->openai==0.28) (3.10)\n",
            "Requirement already satisfied: urllib3<3,>=1.21.1 in /usr/local/lib/python3.10/dist-packages (from requests>=2.20->openai==0.28) (2.2.3)\n",
            "Requirement already satisfied: certifi>=2017.4.17 in /usr/local/lib/python3.10/dist-packages (from requests>=2.20->openai==0.28) (2024.8.30)\n",
            "Requirement already satisfied: aiohappyeyeballs>=2.3.0 in /usr/local/lib/python3.10/dist-packages (from aiohttp->openai==0.28) (2.4.3)\n",
            "Requirement already satisfied: aiosignal>=1.1.2 in /usr/local/lib/python3.10/dist-packages (from aiohttp->openai==0.28) (1.3.1)\n",
            "Requirement already satisfied: attrs>=17.3.0 in /usr/local/lib/python3.10/dist-packages (from aiohttp->openai==0.28) (24.2.0)\n",
            "Requirement already satisfied: frozenlist>=1.1.1 in /usr/local/lib/python3.10/dist-packages (from aiohttp->openai==0.28) (1.5.0)\n",
            "Requirement already satisfied: multidict<7.0,>=4.5 in /usr/local/lib/python3.10/dist-packages (from aiohttp->openai==0.28) (6.1.0)\n",
            "Requirement already satisfied: propcache>=0.2.0 in /usr/local/lib/python3.10/dist-packages (from aiohttp->openai==0.28) (0.2.0)\n",
            "Requirement already satisfied: yarl<2.0,>=1.17.0 in /usr/local/lib/python3.10/dist-packages (from aiohttp->openai==0.28) (1.17.2)\n",
            "Requirement already satisfied: async-timeout<6.0,>=4.0 in /usr/local/lib/python3.10/dist-packages (from aiohttp->openai==0.28) (4.0.3)\n",
            "Requirement already satisfied: typing-extensions>=4.1.0 in /usr/local/lib/python3.10/dist-packages (from multidict<7.0,>=4.5->aiohttp->openai==0.28) (4.12.2)\n",
            "Downloading openai-0.28.0-py3-none-any.whl (76 kB)\n",
            "\u001b[2K   \u001b[90m━━━━━━━━━━━━━━━━━━━━━━━━━━━━━━━━━━━━━━━━\u001b[0m \u001b[32m76.5/76.5 kB\u001b[0m \u001b[31m2.2 MB/s\u001b[0m eta \u001b[36m0:00:00\u001b[0m\n",
            "\u001b[?25hInstalling collected packages: openai\n",
            "  Attempting uninstall: openai\n",
            "    Found existing installation: openai 1.54.4\n",
            "    Uninstalling openai-1.54.4:\n",
            "      Successfully uninstalled openai-1.54.4\n",
            "Successfully installed openai-0.28.0\n"
          ]
        }
      ],
      "source": [
        "!pip install openai==0.28"
      ]
    },
    {
      "cell_type": "markdown",
      "source": [
        "# Iterative Prompt Develelopment"
      ],
      "metadata": {
        "id": "dto2IhSsE7_n"
      }
    },
    {
      "cell_type": "code",
      "source": [],
      "metadata": {
        "id": "-yhChBllFAoV"
      },
      "execution_count": null,
      "outputs": []
    },
    {
      "cell_type": "code",
      "source": [
        "import openai\n",
        "import os\n",
        "\n",
        "from google.colab import userdata\n",
        "\n",
        "\n",
        "openai.api_key  = userdata.get('OpenAI')\n",
        "\n",
        "\n"
      ],
      "metadata": {
        "id": "R_QC8dqPFBSW"
      },
      "execution_count": 3,
      "outputs": []
    },
    {
      "cell_type": "code",
      "source": [
        "def get_completion(prompt, model=\"gpt-4o-mini\"):\n",
        "    messages = [{\"role\": \"user\", \"content\": prompt}]\n",
        "    response = openai.ChatCompletion.create(\n",
        "        model=model,\n",
        "        messages=messages,\n",
        "        temperature=0, # this is the degree of randomness of the model's output\n",
        "    )\n",
        "    return response.choices[0].message[\"content\"]"
      ],
      "metadata": {
        "id": "8aSJKEi-JOro"
      },
      "execution_count": 4,
      "outputs": []
    },
    {
      "cell_type": "code",
      "source": [
        "## Generate Test Cases from a Feature Specification"
      ],
      "metadata": {
        "id": "8SlXEMHrJ04f"
      },
      "execution_count": 5,
      "outputs": []
    },
    {
      "cell_type": "code",
      "source": [
        "feature_spec = \"\"\"\n",
        "FEATURE DESCRIPTION\n",
        "- The application allows users to upload images and share them with others.\n",
        "- Users can add captions to images.\n",
        "- Uploaded images must not exceed 10MB.\n",
        "- Supported formats: JPEG, PNG, GIF.\n",
        "- Images can be tagged for easy searching.\n",
        "- Unauthorized users cannot access private images.\n",
        "\n",
        "SECURITY REQUIREMENTS\n",
        "- Validate file size and format before upload.\n",
        "- Ensure all uploaded files are scanned for malicious content.\n",
        "- Enforce strict access control for private images.\n",
        "\"\"\"\n"
      ],
      "metadata": {
        "id": "teQcnZcEJ5Kw"
      },
      "execution_count": 6,
      "outputs": []
    },
    {
      "cell_type": "code",
      "source": [
        "prompt = f\"\"\"\n",
        "You are a QA engineer tasked with validating the feature described below.\n",
        "Generate a comprehensive list of test cases, including both positive and negative scenarios,\n",
        "for the functionality and security requirements described in the specification.\n",
        "\n",
        "Feature Specification: ```{feature_spec}```\n",
        "\"\"\"\n",
        "response = get_completion(prompt)\n",
        "print(response)\n"
      ],
      "metadata": {
        "colab": {
          "base_uri": "https://localhost:8080/"
        },
        "id": "9EPF74g3J7h4",
        "outputId": "def62a05-d139-4078-8636-94ca2269a227"
      },
      "execution_count": 7,
      "outputs": [
        {
          "output_type": "stream",
          "name": "stdout",
          "text": [
            "Here is a comprehensive list of test cases for the image upload and sharing feature, including both positive and negative scenarios, as well as security requirements.\n",
            "\n",
            "### Test Cases for Image Upload and Sharing Feature\n",
            "\n",
            "#### Positive Test Cases\n",
            "\n",
            "1. **Valid Image Upload (JPEG)**\n",
            "   - Upload a JPEG image of size less than 10MB.\n",
            "   - Verify that the image is uploaded successfully.\n",
            "\n",
            "2. **Valid Image Upload (PNG)**\n",
            "   - Upload a PNG image of size less than 10MB.\n",
            "   - Verify that the image is uploaded successfully.\n",
            "\n",
            "3. **Valid Image Upload (GIF)**\n",
            "   - Upload a GIF image of size less than 10MB.\n",
            "   - Verify that the image is uploaded successfully.\n",
            "\n",
            "4. **Image Caption Addition**\n",
            "   - Upload a valid image and add a caption.\n",
            "   - Verify that the caption is saved and displayed with the image.\n",
            "\n",
            "5. **Image Tagging**\n",
            "   - Upload a valid image and add tags.\n",
            "   - Verify that the tags are saved and displayed with the image.\n",
            "\n",
            "6. **Image Search by Tag**\n",
            "   - Upload multiple images with different tags.\n",
            "   - Search for an image using a tag and verify that the correct images are displayed.\n",
            "\n",
            "7. **Image Size Validation**\n",
            "   - Upload an image exactly 10MB in size.\n",
            "   - Verify that the image is uploaded successfully.\n",
            "\n",
            "8. **Multiple Image Uploads**\n",
            "   - Upload multiple valid images in one session.\n",
            "   - Verify that all images are uploaded successfully.\n",
            "\n",
            "#### Negative Test Cases\n",
            "\n",
            "1. **Image Size Exceeds Limit**\n",
            "   - Upload an image larger than 10MB.\n",
            "   - Verify that an error message is displayed indicating the size limit.\n",
            "\n",
            "2. **Unsupported Image Format**\n",
            "   - Upload an image in an unsupported format (e.g., BMP, TIFF).\n",
            "   - Verify that an error message is displayed indicating the format is not supported.\n",
            "\n",
            "3. **Empty Image Upload**\n",
            "   - Attempt to upload an empty file.\n",
            "   - Verify that an error message is displayed indicating that the file is empty.\n",
            "\n",
            "4. **Invalid Caption Length**\n",
            "   - Upload a valid image and add a caption that exceeds the maximum allowed length (if applicable).\n",
            "   - Verify that an error message is displayed.\n",
            "\n",
            "5. **Invalid Tag Length**\n",
            "   - Upload a valid image and add a tag that exceeds the maximum allowed length (if applicable).\n",
            "   - Verify that an error message is displayed.\n",
            "\n",
            "6. **Malicious File Upload**\n",
            "   - Attempt to upload a file that contains malicious content (e.g., a virus).\n",
            "   - Verify that the upload is blocked and an appropriate error message is displayed.\n",
            "\n",
            "7. **Unauthorized Access to Private Images**\n",
            "   - Attempt to access a private image without proper authorization.\n",
            "   - Verify that access is denied and an appropriate error message is displayed.\n",
            "\n",
            "8. **Access Control for Shared Images**\n",
            "   - Share an image with a user and verify that only the intended user can access it.\n",
            "   - Attempt to access the shared image with an unauthorized user account and verify access is denied.\n",
            "\n",
            "#### Security Test Cases\n",
            "\n",
            "1. **File Size Validation**\n",
            "   - Attempt to upload a file that is exactly 10MB and verify it is accepted.\n",
            "   - Attempt to upload a file that is 10.1MB and verify it is rejected.\n",
            "\n",
            "2. **File Format Validation**\n",
            "   - Attempt to upload a file with a valid extension but invalid content (e.g., a .jpg file that is not a JPEG).\n",
            "   - Verify that the upload is rejected.\n",
            "\n",
            "3. **Malware Scanning**\n",
            "   - Upload a file that is known to contain malware.\n",
            "   - Verify that the upload is blocked and an appropriate error message is displayed.\n",
            "\n",
            "4. **Access Control Testing**\n",
            "   - Create a private image and verify that it cannot be accessed by users who do not have permission.\n",
            "   - Attempt to change the access permissions of a private image and verify that only authorized users can do so.\n",
            "\n",
            "5. **Session Management**\n",
            "   - Log in as a user, upload an image, and then log out.\n",
            "   - Attempt to access the uploaded image after logging out and verify that access is denied.\n",
            "\n",
            "6. **Cross-Site Scripting (XSS)**\n",
            "   - Attempt to upload an image with a caption that contains JavaScript code.\n",
            "   - Verify that the application does not execute the script and handles it safely.\n",
            "\n",
            "7. **SQL Injection**\n",
            "   - Attempt to upload an image with a caption that contains SQL injection code.\n",
            "   - Verify that the application does not execute the SQL code and handles it safely.\n",
            "\n",
            "8. **Rate Limiting**\n",
            "   - Attempt to upload images in rapid succession to test for denial of service.\n",
            "   - Verify that the application enforces rate limiting and does not allow excessive uploads.\n",
            "\n",
            "### Conclusion\n",
            "This comprehensive list of test cases covers various scenarios for the image upload and sharing feature, ensuring both functionality and security requirements are validated effectively.\n"
          ]
        }
      ]
    },
    {
      "cell_type": "markdown",
      "source": [
        "## Issue 1: Too many test cases\n",
        "- Limit the number of test cases.\n"
      ],
      "metadata": {
        "id": "Iu2tmIfUJ-9b"
      }
    },
    {
      "cell_type": "code",
      "source": [
        "prompt = f\"\"\"\n",
        "You are a QA engineer tasked with validating the feature described below.\n",
        "Generate up to 10 test cases, focusing on the most critical positive and negative scenarios,\n",
        "for the functionality and security requirements described in the specification.\n",
        "\n",
        "Feature Specification: ```{feature_spec}```\n",
        "\"\"\"\n",
        "response = get_completion(prompt)\n",
        "print(response)\n"
      ],
      "metadata": {
        "colab": {
          "base_uri": "https://localhost:8080/"
        },
        "id": "sssAr8o3J76B",
        "outputId": "f1823d52-7329-4ce5-ff22-7c9a05a8862a"
      },
      "execution_count": 8,
      "outputs": [
        {
          "output_type": "stream",
          "name": "stdout",
          "text": [
            "Here are 10 test cases focusing on both functionality and security requirements for the image upload feature:\n",
            "\n",
            "### Positive Test Cases\n",
            "\n",
            "1. **TC1: Valid Image Upload**\n",
            "   - **Description:** Upload a JPEG image of size 5MB.\n",
            "   - **Expected Result:** The image is successfully uploaded, and the user can see it in their gallery.\n",
            "\n",
            "2. **TC2: Caption Addition**\n",
            "   - **Description:** Upload a PNG image and add a caption.\n",
            "   - **Expected Result:** The image is uploaded successfully, and the caption is displayed correctly alongside the image.\n",
            "\n",
            "3. **TC3: Tagging Images**\n",
            "   - **Description:** Upload a GIF image and tag it with multiple tags.\n",
            "   - **Expected Result:** The image is uploaded successfully, and all tags are saved and displayed correctly.\n",
            "\n",
            "4. **TC4: Maximum File Size Upload**\n",
            "   - **Description:** Upload a JPEG image of exactly 10MB.\n",
            "   - **Expected Result:** The image is successfully uploaded, and the user can see it in their gallery.\n",
            "\n",
            "5. **TC5: Supported Format Upload**\n",
            "   - **Description:** Upload a PNG image.\n",
            "   - **Expected Result:** The image is successfully uploaded, and the user can see it in their gallery.\n",
            "\n",
            "### Negative Test Cases\n",
            "\n",
            "6. **TC6: Exceeding File Size Limit**\n",
            "   - **Description:** Attempt to upload a JPEG image of size 12MB.\n",
            "   - **Expected Result:** The upload fails with an error message indicating that the file size exceeds the limit.\n",
            "\n",
            "7. **TC7: Unsupported File Format**\n",
            "   - **Description:** Attempt to upload a BMP image.\n",
            "   - **Expected Result:** The upload fails with an error message indicating that the file format is not supported.\n",
            "\n",
            "8. **TC8: Malicious Content Detection**\n",
            "   - **Description:** Attempt to upload an image file that contains malicious content (e.g., a virus).\n",
            "   - **Expected Result:** The upload fails, and the user receives an error message indicating that the file is unsafe.\n",
            "\n",
            "9. **TC9: Unauthorized Access to Private Images**\n",
            "   - **Description:** An unauthorized user attempts to access a private image uploaded by another user.\n",
            "   - **Expected Result:** Access is denied, and the unauthorized user receives an error message indicating that they do not have permission to view the image.\n",
            "\n",
            "10. **TC10: Access Control for Private Images**\n",
            "    - **Description:** A logged-in user attempts to access their own private image.\n",
            "    - **Expected Result:** The image is displayed successfully, confirming that access control is enforced correctly.\n",
            "\n",
            "These test cases cover a range of scenarios to ensure both the functionality and security of the image upload feature are validated effectively.\n"
          ]
        }
      ]
    },
    {
      "cell_type": "markdown",
      "source": [
        "## Issue 2: Test Cases Focus on Wrong Details\n",
        "- Ask it to focus on specific aspects.\n"
      ],
      "metadata": {
        "id": "5_S5ELDrKD-q"
      }
    },
    {
      "cell_type": "code",
      "source": [
        "prompt = f\"\"\"\n",
        "You are a QA engineer tasked with validating the feature described below.\n",
        "Generate up to 10 test cases focusing specifically on the security requirements,\n",
        "including validation of file size, format, and access control.\n",
        "\n",
        "Feature Specification: ```{feature_spec}```\n",
        "\"\"\"\n",
        "response = get_completion(prompt)\n",
        "print(response)\n"
      ],
      "metadata": {
        "colab": {
          "base_uri": "https://localhost:8080/"
        },
        "id": "OIFWZ1opKCcx",
        "outputId": "cab5eb55-778b-42fc-e2b7-5e87f7bf4724"
      },
      "execution_count": 9,
      "outputs": [
        {
          "output_type": "stream",
          "name": "stdout",
          "text": [
            "Here are 10 test cases focusing on the security requirements for the image upload feature:\n",
            "\n",
            "### Test Case 1: Validate File Size Limit\n",
            "**Objective:** Ensure that images larger than 10MB cannot be uploaded.  \n",
            "**Steps:**\n",
            "1. Attempt to upload an image file of size 11MB.  \n",
            "**Expected Result:** The application should reject the upload with an appropriate error message indicating the file size limit.\n",
            "\n",
            "### Test Case 2: Validate Supported File Formats\n",
            "**Objective:** Ensure that only supported image formats can be uploaded.  \n",
            "**Steps:**\n",
            "1. Attempt to upload an image file in an unsupported format (e.g., BMP, TIFF).  \n",
            "**Expected Result:** The application should reject the upload with an appropriate error message indicating the supported formats.\n",
            "\n",
            "### Test Case 3: Validate Supported File Formats (Positive Test)\n",
            "**Objective:** Ensure that supported image formats can be uploaded successfully.  \n",
            "**Steps:**\n",
            "1. Attempt to upload a JPEG, PNG, and GIF file, each within the size limit.  \n",
            "**Expected Result:** The application should accept all uploads without errors.\n",
            "\n",
            "### Test Case 4: Scan for Malicious Content\n",
            "**Objective:** Ensure that uploaded files are scanned for malicious content.  \n",
            "**Steps:**\n",
            "1. Attempt to upload an image file that contains embedded malicious code (e.g., a crafted JPEG).  \n",
            "**Expected Result:** The application should reject the upload and log the incident, indicating that the file contains malicious content.\n",
            "\n",
            "### Test Case 5: Access Control for Private Images\n",
            "**Objective:** Ensure that unauthorized users cannot access private images.  \n",
            "**Steps:**\n",
            "1. Upload an image and set it as private.  \n",
            "2. Attempt to access the private image using a different user account that does not have permission.  \n",
            "**Expected Result:** The application should deny access and return a 403 Forbidden error.\n",
            "\n",
            "### Test Case 6: Access Control for Public Images\n",
            "**Objective:** Ensure that public images can be accessed by any user.  \n",
            "**Steps:**\n",
            "1. Upload an image and set it as public.  \n",
            "2. Attempt to access the public image using a different user account.  \n",
            "**Expected Result:** The application should allow access to the public image.\n",
            "\n",
            "### Test Case 7: Validate Image Upload with No File\n",
            "**Objective:** Ensure that the application does not allow uploads without a file.  \n",
            "**Steps:**\n",
            "1. Attempt to upload an image without selecting a file.  \n",
            "**Expected Result:** The application should reject the upload with an appropriate error message indicating that a file must be selected.\n",
            "\n",
            "### Test Case 8: Validate Image Upload with Large File Size\n",
            "**Objective:** Ensure that the application handles large file uploads gracefully.  \n",
            "**Steps:**\n",
            "1. Attempt to upload an image file that is exactly 10MB.  \n",
            "**Expected Result:** The application should accept the upload without errors.\n",
            "\n",
            "### Test Case 9: Validate Image Upload with Special Characters in Filename\n",
            "**Objective:** Ensure that the application handles filenames with special characters securely.  \n",
            "**Steps:**\n",
            "1. Attempt to upload an image file with special characters in the filename (e.g., `image@#$.jpg`).  \n",
            "**Expected Result:** The application should accept the upload if the file is valid, or reject it with an appropriate error message if it poses a security risk.\n",
            "\n",
            "### Test Case 10: Validate Session Management for Image Access\n",
            "**Objective:** Ensure that session management is enforced when accessing images.  \n",
            "**Steps:**\n",
            "1. Log in as a user and upload an image.  \n",
            "2. Log out and attempt to access the uploaded image using the same session token.  \n",
            "**Expected Result:** The application should deny access and require re-authentication.\n",
            "\n",
            "These test cases cover various aspects of security related to file uploads, including file size, format validation, malicious content scanning, and access control.\n"
          ]
        }
      ]
    },
    {
      "cell_type": "markdown",
      "source": [
        "## Issue 3: Summarized Output for Reporting\n",
        "- Ask for a summarized format for reporting.\n"
      ],
      "metadata": {
        "id": "dZn4CfFSKRq1"
      }
    },
    {
      "cell_type": "code",
      "source": [
        "prompt = f\"\"\"\n",
        "You are a QA engineer tasked with validating the feature described below.\n",
        "Generate a summary of the top 5 test cases, including test case IDs, descriptions,\n",
        "and expected results, in a tabular format for reporting purposes.\n",
        "\n",
        "Feature Specification: ```{feature_spec}```\n",
        "\"\"\"\n",
        "response = get_completion(prompt)\n",
        "print(response)\n"
      ],
      "metadata": {
        "colab": {
          "base_uri": "https://localhost:8080/"
        },
        "id": "eYUKPUpSKVWs",
        "outputId": "611d5100-e999-43a1-cb33-80b3031e9e04"
      },
      "execution_count": 10,
      "outputs": [
        {
          "output_type": "stream",
          "name": "stdout",
          "text": [
            "Here is a summary of the top 5 test cases for validating the image upload feature based on the provided specifications:\n",
            "\n",
            "| Test Case ID | Description                                           | Expected Result                                                                 |\n",
            "|---------------|-------------------------------------------------------|---------------------------------------------------------------------------------|\n",
            "| TC001         | Validate image upload with a file size of 9MB       | The image should upload successfully without any errors.                        |\n",
            "| TC002         | Validate image upload with a file size of 11MB      | The application should reject the upload and display an error message indicating the file size limit. |\n",
            "| TC003         | Validate image upload with unsupported file format (e.g., BMP) | The application should reject the upload and display an error message indicating unsupported format. |\n",
            "| TC004         | Validate image upload for a valid format (JPEG, PNG, GIF) | The image should upload successfully and be available for sharing with a caption. |\n",
            "| TC005         | Validate access control for private images by unauthorized users | Unauthorized users should not be able to access or view private images, receiving an access denied message instead. |\n",
            "\n",
            "These test cases cover the essential functionalities and security requirements of the image upload feature.\n"
          ]
        }
      ]
    },
    {
      "cell_type": "markdown",
      "source": [
        "## Load Python libraries to view formatted tables\n"
      ],
      "metadata": {
        "id": "2XX_IDNiKhYE"
      }
    },
    {
      "cell_type": "code",
      "source": [
        "from IPython.display import display, HTML\n",
        "\n",
        "# Display the response as HTML\n",
        "display(HTML(response))\n"
      ],
      "metadata": {
        "colab": {
          "base_uri": "https://localhost:8080/",
          "height": 104
        },
        "id": "OmlwvNV_LnTI",
        "outputId": "6347294e-38b7-458d-b96f-ca123d7c0e07"
      },
      "execution_count": 11,
      "outputs": [
        {
          "output_type": "display_data",
          "data": {
            "text/plain": [
              "<IPython.core.display.HTML object>"
            ],
            "text/html": [
              "Here is a summary of the top 5 test cases for validating the image upload feature based on the provided specifications:\n",
              "\n",
              "| Test Case ID | Description                                           | Expected Result                                                                 |\n",
              "|---------------|-------------------------------------------------------|---------------------------------------------------------------------------------|\n",
              "| TC001         | Validate image upload with a file size of 9MB       | The image should upload successfully without any errors.                        |\n",
              "| TC002         | Validate image upload with a file size of 11MB      | The application should reject the upload and display an error message indicating the file size limit. |\n",
              "| TC003         | Validate image upload with unsupported file format (e.g., BMP) | The application should reject the upload and display an error message indicating unsupported format. |\n",
              "| TC004         | Validate image upload for a valid format (JPEG, PNG, GIF) | The image should upload successfully and be available for sharing with a caption. |\n",
              "| TC005         | Validate access control for private images by unauthorized users | Unauthorized users should not be able to access or view private images, receiving an access denied message instead. |\n",
              "\n",
              "These test cases cover the essential functionalities and security requirements of the image upload feature."
            ]
          },
          "metadata": {}
        }
      ]
    },
    {
      "cell_type": "code",
      "source": [],
      "metadata": {
        "id": "UbLbRyd7Ln2v"
      },
      "execution_count": null,
      "outputs": []
    }
  ]
}