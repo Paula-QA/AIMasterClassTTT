{
  "nbformat": 4,
  "nbformat_minor": 0,
  "metadata": {
    "colab": {
      "provenance": [],
      "authorship_tag": "ABX9TyO5GmWnL/co+CEHPPbxOO38",
      "include_colab_link": true
    },
    "kernelspec": {
      "name": "python3",
      "display_name": "Python 3"
    },
    "language_info": {
      "name": "python"
    }
  },
  "cells": [
    {
      "cell_type": "markdown",
      "metadata": {
        "id": "view-in-github",
        "colab_type": "text"
      },
      "source": [
        "<a href=\"https://colab.research.google.com/github/toni-ramchandani/AIMasterClassTTT/blob/main/Day3_Automation_inColab.ipynb\" target=\"_parent\"><img src=\"https://colab.research.google.com/assets/colab-badge.svg\" alt=\"Open In Colab\"/></a>"
      ]
    },
    {
      "cell_type": "markdown",
      "source": [
        "# Why Use Selenium in Google Colab?\n",
        "Access to Free Resources: Google Colab provides free access to computational resources like CPUs, GPUs, and TPUs, which is particularly useful when performing web scraping or automating complex browser interactions. Running Selenium in Colab allows you to leverage these resources without having to set up your local environment.\n",
        "\n",
        "No Local Setup Required: Typically, setting up Selenium requires downloading and installing browser drivers (e.g., ChromeDriver for Google Chrome) and browsers themselves. In Google Colab, you can install these dependencies and run Selenium in just a few simple commands. This means you don't need to worry about setting up Selenium on your local machine.\n",
        "\n",
        "Convenience of Cloud-Based Workflows: Since Colab is cloud-based, you can run Selenium scripts from any device, share them easily with collaborators, and store results in Google Drive. This makes it perfect for remote work and collaborative projects.\n",
        "\n",
        "Headless Mode for Automation: By default, Selenium runs in headless mode in Colab, meaning the browser operates without a visible GUI. This allows you to perform web scraping and automation tasks faster and more efficiently, without the need for a graphical display."
      ],
      "metadata": {
        "id": "R_P5X9s3i78d"
      }
    },
    {
      "cell_type": "code",
      "execution_count": null,
      "metadata": {
        "colab": {
          "base_uri": "https://localhost:8080/"
        },
        "id": "YJj9ei3rKDl0",
        "outputId": "d2d5907c-13ac-4ce8-d39c-c3817aa0c13d"
      },
      "outputs": [
        {
          "output_type": "stream",
          "name": "stdout",
          "text": [
            "Requirement already satisfied: google-colab-selenium in /usr/local/lib/python3.10/dist-packages (1.0.14)\n",
            "Requirement already satisfied: selenium in /usr/local/lib/python3.10/dist-packages (from google-colab-selenium) (4.27.1)\n",
            "Requirement already satisfied: urllib3<3,>=1.26 in /usr/local/lib/python3.10/dist-packages (from urllib3[socks]<3,>=1.26->selenium->google-colab-selenium) (2.2.3)\n",
            "Requirement already satisfied: trio~=0.17 in /usr/local/lib/python3.10/dist-packages (from selenium->google-colab-selenium) (0.27.0)\n",
            "Requirement already satisfied: trio-websocket~=0.9 in /usr/local/lib/python3.10/dist-packages (from selenium->google-colab-selenium) (0.11.1)\n",
            "Requirement already satisfied: certifi>=2021.10.8 in /usr/local/lib/python3.10/dist-packages (from selenium->google-colab-selenium) (2024.8.30)\n",
            "Requirement already satisfied: typing_extensions~=4.9 in /usr/local/lib/python3.10/dist-packages (from selenium->google-colab-selenium) (4.12.2)\n",
            "Requirement already satisfied: websocket-client~=1.8 in /usr/local/lib/python3.10/dist-packages (from selenium->google-colab-selenium) (1.8.0)\n",
            "Requirement already satisfied: attrs>=23.2.0 in /usr/local/lib/python3.10/dist-packages (from trio~=0.17->selenium->google-colab-selenium) (24.2.0)\n",
            "Requirement already satisfied: sortedcontainers in /usr/local/lib/python3.10/dist-packages (from trio~=0.17->selenium->google-colab-selenium) (2.4.0)\n",
            "Requirement already satisfied: idna in /usr/local/lib/python3.10/dist-packages (from trio~=0.17->selenium->google-colab-selenium) (3.10)\n",
            "Requirement already satisfied: outcome in /usr/local/lib/python3.10/dist-packages (from trio~=0.17->selenium->google-colab-selenium) (1.3.0.post0)\n",
            "Requirement already satisfied: sniffio>=1.3.0 in /usr/local/lib/python3.10/dist-packages (from trio~=0.17->selenium->google-colab-selenium) (1.3.1)\n",
            "Requirement already satisfied: exceptiongroup in /usr/local/lib/python3.10/dist-packages (from trio~=0.17->selenium->google-colab-selenium) (1.2.2)\n",
            "Requirement already satisfied: wsproto>=0.14 in /usr/local/lib/python3.10/dist-packages (from trio-websocket~=0.9->selenium->google-colab-selenium) (1.2.0)\n",
            "Requirement already satisfied: pysocks!=1.5.7,<2.0,>=1.5.6 in /usr/local/lib/python3.10/dist-packages (from urllib3[socks]<3,>=1.26->selenium->google-colab-selenium) (1.7.1)\n",
            "Requirement already satisfied: h11<1,>=0.9.0 in /usr/local/lib/python3.10/dist-packages (from wsproto>=0.14->trio-websocket~=0.9->selenium->google-colab-selenium) (0.14.0)\n"
          ]
        }
      ],
      "source": [
        "%pip install google-colab-selenium\n"
      ]
    },
    {
      "cell_type": "code",
      "source": [
        "!pip install google-colab-selenium selenium pyvirtualdisplay\n"
      ],
      "metadata": {
        "colab": {
          "base_uri": "https://localhost:8080/"
        },
        "id": "ZgUahewqdXia",
        "outputId": "bda6955e-6f04-47ed-8b14-419ffd88cc04"
      },
      "execution_count": null,
      "outputs": [
        {
          "output_type": "stream",
          "name": "stdout",
          "text": [
            "Requirement already satisfied: google-colab-selenium in /usr/local/lib/python3.10/dist-packages (1.0.14)\n",
            "Requirement already satisfied: selenium in /usr/local/lib/python3.10/dist-packages (4.27.1)\n",
            "Collecting pyvirtualdisplay\n",
            "  Downloading PyVirtualDisplay-3.0-py3-none-any.whl.metadata (943 bytes)\n",
            "Requirement already satisfied: urllib3<3,>=1.26 in /usr/local/lib/python3.10/dist-packages (from urllib3[socks]<3,>=1.26->selenium) (2.2.3)\n",
            "Requirement already satisfied: trio~=0.17 in /usr/local/lib/python3.10/dist-packages (from selenium) (0.27.0)\n",
            "Requirement already satisfied: trio-websocket~=0.9 in /usr/local/lib/python3.10/dist-packages (from selenium) (0.11.1)\n",
            "Requirement already satisfied: certifi>=2021.10.8 in /usr/local/lib/python3.10/dist-packages (from selenium) (2024.8.30)\n",
            "Requirement already satisfied: typing_extensions~=4.9 in /usr/local/lib/python3.10/dist-packages (from selenium) (4.12.2)\n",
            "Requirement already satisfied: websocket-client~=1.8 in /usr/local/lib/python3.10/dist-packages (from selenium) (1.8.0)\n",
            "Requirement already satisfied: attrs>=23.2.0 in /usr/local/lib/python3.10/dist-packages (from trio~=0.17->selenium) (24.2.0)\n",
            "Requirement already satisfied: sortedcontainers in /usr/local/lib/python3.10/dist-packages (from trio~=0.17->selenium) (2.4.0)\n",
            "Requirement already satisfied: idna in /usr/local/lib/python3.10/dist-packages (from trio~=0.17->selenium) (3.10)\n",
            "Requirement already satisfied: outcome in /usr/local/lib/python3.10/dist-packages (from trio~=0.17->selenium) (1.3.0.post0)\n",
            "Requirement already satisfied: sniffio>=1.3.0 in /usr/local/lib/python3.10/dist-packages (from trio~=0.17->selenium) (1.3.1)\n",
            "Requirement already satisfied: exceptiongroup in /usr/local/lib/python3.10/dist-packages (from trio~=0.17->selenium) (1.2.2)\n",
            "Requirement already satisfied: wsproto>=0.14 in /usr/local/lib/python3.10/dist-packages (from trio-websocket~=0.9->selenium) (1.2.0)\n",
            "Requirement already satisfied: pysocks!=1.5.7,<2.0,>=1.5.6 in /usr/local/lib/python3.10/dist-packages (from urllib3[socks]<3,>=1.26->selenium) (1.7.1)\n",
            "Requirement already satisfied: h11<1,>=0.9.0 in /usr/local/lib/python3.10/dist-packages (from wsproto>=0.14->trio-websocket~=0.9->selenium) (0.14.0)\n",
            "Downloading PyVirtualDisplay-3.0-py3-none-any.whl (15 kB)\n",
            "Installing collected packages: pyvirtualdisplay\n",
            "Successfully installed pyvirtualdisplay-3.0\n"
          ]
        }
      ]
    },
    {
      "cell_type": "code",
      "source": [
        "import google_colab_selenium as gs\n",
        "from selenium.webdriver.common.by import By\n",
        "from selenium.webdriver.common.keys import Keys\n",
        "import time\n",
        "\n",
        "# Initialize the Chrome WebDriver\n",
        "driver = gs.Chrome()\n",
        "# Navigate to Google\n",
        "driver.get('https://www.google.com')\n",
        "\n",
        "# Locate the search bar\n",
        "search_box = driver.find_element(By.NAME, 'q')\n",
        "\n",
        "# Input the search query\n",
        "search_box.send_keys('Toni Ramchandani')\n",
        "\n",
        "# Submit the search\n",
        "search_box.send_keys(Keys.RETURN)\n",
        "\n",
        "# Wait for the results to load\n",
        "time.sleep(2)\n"
      ],
      "metadata": {
        "colab": {
          "base_uri": "https://localhost:8080/",
          "height": 37
        },
        "id": "L5SNdC0OKEuc",
        "outputId": "ae862b68-8a74-401d-e559-8f13cb14fa90"
      },
      "execution_count": null,
      "outputs": [
        {
          "output_type": "display_data",
          "data": {
            "text/plain": [
              "<IPython.core.display.HTML object>"
            ],
            "text/html": [
              "\n",
              "            <div class=\"spinner-container\">\n",
              "                <div class=\"spinner\" id=\"a1ffe527-de68-48c2-9653-d267e91c52ed-circle\"></div>\n",
              "                <div class=\"spinner-text\" id=\"a1ffe527-de68-48c2-9653-d267e91c52ed-text\">Initializing Chromedriver</div>\n",
              "            </div>\n",
              "            <style>\n",
              "                @keyframes spin {\n",
              "                    from { transform: rotate(0deg); }\n",
              "                    to { transform: rotate(360deg); }\n",
              "                }\n",
              "\n",
              "                .spinner-container {\n",
              "                    display: flex;\n",
              "                    align-items: center;\n",
              "                    margin-bottom: 3px;\n",
              "                }\n",
              "\n",
              "                .spinner {\n",
              "                    border: 3px solid rgba(0, 0, 0, 0.1);\n",
              "                    border-left-color: lightblue;\n",
              "                    border-radius: 50%;\n",
              "                    width: 12px;\n",
              "                    height: 12px;\n",
              "                    animation: spin 1s linear infinite;\n",
              "                }\n",
              "\n",
              "                .spinner-text {\n",
              "                    padding-left: 6px;\n",
              "                }\n",
              "            </style>\n",
              "        "
            ]
          },
          "metadata": {}
        },
        {
          "output_type": "display_data",
          "data": {
            "text/plain": [
              "<IPython.core.display.Javascript object>"
            ],
            "application/javascript": [
              "\n",
              "            const element = document.getElementById(\"a1ffe527-de68-48c2-9653-d267e91c52ed-circle\");\n",
              "            element.style.border = \"3px solid limegreen\";\n",
              "            element.style.animation = \"none\";\n",
              "\n",
              "            const text = document.getElementById(\"a1ffe527-de68-48c2-9653-d267e91c52ed-text\");\n",
              "            text.innerText = \"Initialized Chromedriver\";\n",
              "        "
            ]
          },
          "metadata": {}
        }
      ]
    },
    {
      "cell_type": "code",
      "source": [
        "# Capture screenshot\n",
        "driver.get_screenshot_as_file('/content/toni_ramchandani_search_results.png')"
      ],
      "metadata": {
        "colab": {
          "base_uri": "https://localhost:8080/"
        },
        "id": "UHw5HTCmLW7t",
        "outputId": "f1b8c5c4-1450-4ad5-ec2f-03ac7476674f"
      },
      "execution_count": null,
      "outputs": [
        {
          "output_type": "execute_result",
          "data": {
            "text/plain": [
              "True"
            ]
          },
          "metadata": {},
          "execution_count": 4
        }
      ]
    },
    {
      "cell_type": "code",
      "source": [
        "from PIL import Image\n",
        "\n",
        "# Open and display the image\n",
        "img = Image.open('/content/toni_ramchandani_search_results.png')\n",
        "img.show()"
      ],
      "metadata": {
        "id": "7X54JwPBLZdb"
      },
      "execution_count": null,
      "outputs": []
    },
    {
      "cell_type": "code",
      "source": [
        "img.show()\n"
      ],
      "metadata": {
        "id": "oN-_KN2CLaCx"
      },
      "execution_count": null,
      "outputs": []
    },
    {
      "cell_type": "code",
      "source": [
        "%pip install matplotlib\n"
      ],
      "metadata": {
        "colab": {
          "base_uri": "https://localhost:8080/"
        },
        "id": "q7bgDG8CL0u1",
        "outputId": "e038dcd3-0de8-4929-8a00-32dda1de221a"
      },
      "execution_count": null,
      "outputs": [
        {
          "output_type": "stream",
          "name": "stdout",
          "text": [
            "Requirement already satisfied: matplotlib in /usr/local/lib/python3.10/dist-packages (3.8.0)\n",
            "Requirement already satisfied: contourpy>=1.0.1 in /usr/local/lib/python3.10/dist-packages (from matplotlib) (1.3.1)\n",
            "Requirement already satisfied: cycler>=0.10 in /usr/local/lib/python3.10/dist-packages (from matplotlib) (0.12.1)\n",
            "Requirement already satisfied: fonttools>=4.22.0 in /usr/local/lib/python3.10/dist-packages (from matplotlib) (4.55.0)\n",
            "Requirement already satisfied: kiwisolver>=1.0.1 in /usr/local/lib/python3.10/dist-packages (from matplotlib) (1.4.7)\n",
            "Requirement already satisfied: numpy<2,>=1.21 in /usr/local/lib/python3.10/dist-packages (from matplotlib) (1.26.4)\n",
            "Requirement already satisfied: packaging>=20.0 in /usr/local/lib/python3.10/dist-packages (from matplotlib) (24.2)\n",
            "Requirement already satisfied: pillow>=6.2.0 in /usr/local/lib/python3.10/dist-packages (from matplotlib) (11.0.0)\n",
            "Requirement already satisfied: pyparsing>=2.3.1 in /usr/local/lib/python3.10/dist-packages (from matplotlib) (3.2.0)\n",
            "Requirement already satisfied: python-dateutil>=2.7 in /usr/local/lib/python3.10/dist-packages (from matplotlib) (2.8.2)\n",
            "Requirement already satisfied: six>=1.5 in /usr/local/lib/python3.10/dist-packages (from python-dateutil>=2.7->matplotlib) (1.16.0)\n"
          ]
        }
      ]
    },
    {
      "cell_type": "code",
      "source": [
        "import matplotlib.pyplot as plt\n",
        "from PIL import Image\n",
        "# Display the image\n",
        "plt.imshow(img)\n",
        "plt.axis('off')  # Hide axes\n",
        "plt.show()"
      ],
      "metadata": {
        "colab": {
          "base_uri": "https://localhost:8080/",
          "height": 317
        },
        "id": "H21rU2YCLnvU",
        "outputId": "7afabf8a-bccd-47ba-aa0a-0d939eb8b3a5"
      },
      "execution_count": null,
      "outputs": [
        {
          "output_type": "display_data",
          "data": {
            "text/plain": [
              "<Figure size 640x480 with 1 Axes>"
            ],
            "image/png": "[encoded data removed]"
          },
          "metadata": {}
        }
      ]
    },
    {
      "cell_type": "code",
      "source": [],
      "metadata": {
        "id": "8VAK4MFngleH"
      },
      "execution_count": null,
      "outputs": []
    },
    {
      "cell_type": "markdown",
      "source": [
        "\n",
        "\n",
        "---\n",
        "\n",
        "\n",
        "\n",
        "---\n",
        "\n",
        "\n",
        "\n",
        "---\n",
        "\n",
        "\n",
        "\n",
        "---\n",
        "\n"
      ],
      "metadata": {
        "id": "wjNYgVedi6g0"
      }
    },
    {
      "cell_type": "code",
      "source": [
        "!apt update\n",
        "!apt install -y wget curl unzip\n",
        "!pip install playwright\n",
        "!playwright install\n"
      ],
      "metadata": {
        "colab": {
          "base_uri": "https://localhost:8080/"
        },
        "id": "vF2DygqFjFUm",
        "outputId": "c3630d15-b1c1-4ba4-ca1d-e73c017e408b"
      },
      "execution_count": null,
      "outputs": [
        {
          "output_type": "stream",
          "name": "stdout",
          "text": [
            "Hit:1 https://cloud.r-project.org/bin/linux/ubuntu jammy-cran40/ InRelease\n",
            "Hit:2 https://developer.download.nvidia.com/compute/cuda/repos/ubuntu2204/x86_64  InRelease\n",
            "Hit:3 https://r2u.stat.illinois.edu/ubuntu jammy InRelease\n",
            "Hit:4 http://security.ubuntu.com/ubuntu jammy-security InRelease\n",
            "Hit:5 https://dl.google.com/linux/chrome/deb stable InRelease\n",
            "Hit:6 http://archive.ubuntu.com/ubuntu jammy InRelease\n",
            "Hit:7 http://archive.ubuntu.com/ubuntu jammy-updates InRelease\n",
            "Hit:8 https://ppa.launchpadcontent.net/deadsnakes/ppa/ubuntu jammy InRelease\n",
            "Hit:9 http://archive.ubuntu.com/ubuntu jammy-backports InRelease\n",
            "Hit:10 https://ppa.launchpadcontent.net/graphics-drivers/ppa/ubuntu jammy InRelease\n",
            "Hit:11 https://ppa.launchpadcontent.net/ubuntugis/ppa/ubuntu jammy InRelease\n",
            "Reading package lists... Done\n",
            "Building dependency tree... Done\n",
            "Reading state information... Done\n",
            "4 packages can be upgraded. Run 'apt list --upgradable' to see them.\n",
            "\u001b[1;33mW: \u001b[0mSkipping acquire of configured file 'main/source/Sources' as repository 'https://r2u.stat.illinois.edu/ubuntu jammy InRelease' does not seem to provide it (sources.list entry misspelt?)\u001b[0m\n",
            "Reading package lists... Done\n",
            "Building dependency tree... Done\n",
            "Reading state information... Done\n",
            "curl is already the newest version (7.81.0-1ubuntu1.19).\n",
            "unzip is already the newest version (6.0-26ubuntu3.2).\n",
            "wget is already the newest version (1.21.2-2ubuntu1.1).\n",
            "0 upgraded, 0 newly installed, 0 to remove and 4 not upgraded.\n",
            "Collecting playwright\n",
            "  Downloading playwright-1.49.0-py3-none-manylinux1_x86_64.whl.metadata (3.5 kB)\n",
            "Requirement already satisfied: greenlet==3.1.1 in /usr/local/lib/python3.10/dist-packages (from playwright) (3.1.1)\n",
            "Collecting pyee==12.0.0 (from playwright)\n",
            "  Downloading pyee-12.0.0-py3-none-any.whl.metadata (2.8 kB)\n",
            "Requirement already satisfied: typing-extensions in /usr/local/lib/python3.10/dist-packages (from pyee==12.0.0->playwright) (4.12.2)\n",
            "Downloading playwright-1.49.0-py3-none-manylinux1_x86_64.whl (44.1 MB)\n",
            "\u001b[2K   \u001b[90m━━━━━━━━━━━━━━━━━━━━━━━━━━━━━━━━━━━━━━━━\u001b[0m \u001b[32m44.1/44.1 MB\u001b[0m \u001b[31m27.3 MB/s\u001b[0m eta \u001b[36m0:00:00\u001b[0m\n",
            "\u001b[?25hDownloading pyee-12.0.0-py3-none-any.whl (14 kB)\n",
            "Installing collected packages: pyee, playwright\n",
            "Successfully installed playwright-1.49.0 pyee-12.0.0\n",
            "Downloading Chromium 131.0.6778.33 (playwright build v1148)\u001b[2m from https://playwright.azureedge.net/builds/chromium/1148/chromium-linux.zip\u001b[22m\n",
            "\u001b[1G161.3 MiB [] 0% 0.0s\u001b[0K\u001b[1G161.3 MiB [] 0% 33.2s\u001b[0K\u001b[1G161.3 MiB [] 0% 32.0s\u001b[0K\u001b[1G161.3 MiB [] 0% 22.9s\u001b[0K\u001b[1G161.3 MiB [] 0% 15.0s\u001b[0K\u001b[1G161.3 MiB [] 0% 8.2s\u001b[0K\u001b[1G161.3 MiB [] 1% 6.7s\u001b[0K\u001b[1G161.3 MiB [] 1% 6.0s\u001b[0K\u001b[1G161.3 MiB [] 2% 5.1s\u001b[0K\u001b[1G161.3 MiB [] 3% 4.7s\u001b[0K\u001b[1G161.3 MiB [] 3% 4.3s\u001b[0K\u001b[1G161.3 MiB [] 4% 3.9s\u001b[0K\u001b[1G161.3 MiB [] 5% 3.7s\u001b[0K\u001b[1G161.3 MiB [] 5% 3.5s\u001b[0K\u001b[1G161.3 MiB [] 6% 3.5s\u001b[0K\u001b[1G161.3 MiB [] 6% 3.7s\u001b[0K\u001b[1G161.3 MiB [] 7% 3.8s\u001b[0K\u001b[1G161.3 MiB [] 8% 3.6s\u001b[0K\u001b[1G161.3 MiB [] 8% 3.4s\u001b[0K\u001b[1G161.3 MiB [] 9% 3.4s\u001b[0K\u001b[1G161.3 MiB [] 9% 3.5s\u001b[0K\u001b[1G161.3 MiB [] 10% 3.4s\u001b[0K\u001b[1G161.3 MiB [] 11% 3.4s\u001b[0K\u001b[1G161.3 MiB [] 11% 3.3s\u001b[0K\u001b[1G161.3 MiB [] 12% 3.4s\u001b[0K\u001b[1G161.3 MiB [] 13% 3.4s\u001b[0K\u001b[1G161.3 MiB [] 14% 3.5s\u001b[0K\u001b[1G161.3 MiB [] 15% 3.5s\u001b[0K\u001b[1G161.3 MiB [] 15% 3.6s\u001b[0K\u001b[1G161.3 MiB [] 16% 3.6s\u001b[0K\u001b[1G161.3 MiB [] 17% 3.6s\u001b[0K\u001b[1G161.3 MiB [] 18% 3.6s\u001b[0K\u001b[1G161.3 MiB [] 19% 3.5s\u001b[0K\u001b[1G161.3 MiB [] 20% 3.5s\u001b[0K\u001b[1G161.3 MiB [] 21% 3.4s\u001b[0K\u001b[1G161.3 MiB [] 22% 3.4s\u001b[0K\u001b[1G161.3 MiB [] 23% 3.3s\u001b[0K\u001b[1G161.3 MiB [] 23% 3.4s\u001b[0K\u001b[1G161.3 MiB [] 24% 3.4s\u001b[0K\u001b[1G161.3 MiB [] 24% 3.3s\u001b[0K\u001b[1G161.3 MiB [] 25% 3.3s\u001b[0K\u001b[1G161.3 MiB [] 26% 3.2s\u001b[0K\u001b[1G161.3 MiB [] 27% 3.1s\u001b[0K\u001b[1G161.3 MiB [] 28% 3.0s\u001b[0K\u001b[1G161.3 MiB [] 29% 3.0s\u001b[0K\u001b[1G161.3 MiB [] 29% 3.1s\u001b[0K\u001b[1G161.3 MiB [] 29% 3.0s\u001b[0K\u001b[1G161.3 MiB [] 30% 3.0s\u001b[0K\u001b[1G161.3 MiB [] 30% 2.9s\u001b[0K\u001b[1G161.3 MiB [] 31% 2.9s\u001b[0K\u001b[1G161.3 MiB [] 32% 2.8s\u001b[0K\u001b[1G161.3 MiB [] 33% 2.8s\u001b[0K\u001b[1G161.3 MiB [] 33% 2.7s\u001b[0K\u001b[1G161.3 MiB [] 34% 2.7s\u001b[0K\u001b[1G161.3 MiB [] 34% 2.9s\u001b[0K\u001b[1G161.3 MiB [] 34% 3.1s\u001b[0K\u001b[1G161.3 MiB [] 34% 3.2s\u001b[0K\u001b[1G161.3 MiB [] 35% 3.2s\u001b[0K\u001b[1G161.3 MiB [] 35% 3.3s\u001b[0K\u001b[1G161.3 MiB [] 35% 3.4s\u001b[0K\u001b[1G161.3 MiB [] 35% 3.3s\u001b[0K\u001b[1G161.3 MiB [] 36% 3.3s\u001b[0K\u001b[1G161.3 MiB [] 37% 3.2s\u001b[0K\u001b[1G161.3 MiB [] 38% 3.2s\u001b[0K\u001b[1G161.3 MiB [] 38% 3.1s\u001b[0K\u001b[1G161.3 MiB [] 39% 3.1s\u001b[0K\u001b[1G161.3 MiB [] 40% 3.0s\u001b[0K\u001b[1G161.3 MiB [] 41% 2.9s\u001b[0K\u001b[1G161.3 MiB [] 42% 2.8s\u001b[0K\u001b[1G161.3 MiB [] 43% 2.8s\u001b[0K\u001b[1G161.3 MiB [] 44% 2.7s\u001b[0K\u001b[1G161.3 MiB [] 44% 2.6s\u001b[0K\u001b[1G161.3 MiB [] 45% 2.6s\u001b[0K\u001b[1G161.3 MiB [] 46% 2.5s\u001b[0K\u001b[1G161.3 MiB [] 47% 2.5s\u001b[0K\u001b[1G161.3 MiB [] 47% 2.4s\u001b[0K\u001b[1G161.3 MiB [] 48% 2.4s\u001b[0K\u001b[1G161.3 MiB [] 49% 2.3s\u001b[0K\u001b[1G161.3 MiB [] 50% 2.2s\u001b[0K\u001b[1G161.3 MiB [] 51% 2.2s\u001b[0K\u001b[1G161.3 MiB [] 52% 2.1s\u001b[0K\u001b[1G161.3 MiB [] 53% 2.1s\u001b[0K\u001b[1G161.3 MiB [] 53% 2.0s\u001b[0K\u001b[1G161.3 MiB [] 54% 2.0s\u001b[0K\u001b[1G161.3 MiB [] 55% 1.9s\u001b[0K\u001b[1G161.3 MiB [] 56% 1.9s\u001b[0K\u001b[1G161.3 MiB [] 56% 1.8s\u001b[0K\u001b[1G161.3 MiB [] 57% 1.8s\u001b[0K\u001b[1G161.3 MiB [] 58% 1.8s\u001b[0K\u001b[1G161.3 MiB [] 58% 1.9s\u001b[0K\u001b[1G161.3 MiB [] 58% 2.0s\u001b[0K\u001b[1G161.3 MiB [] 58% 2.1s\u001b[0K\u001b[1G161.3 MiB [] 59% 2.1s\u001b[0K\u001b[1G161.3 MiB [] 60% 2.0s\u001b[0K\u001b[1G161.3 MiB [] 61% 1.9s\u001b[0K\u001b[1G161.3 MiB [] 62% 1.9s\u001b[0K\u001b[1G161.3 MiB [] 64% 1.8s\u001b[0K\u001b[1G161.3 MiB [] 65% 1.7s\u001b[0K\u001b[1G161.3 MiB [] 66% 1.6s\u001b[0K\u001b[1G161.3 MiB [] 67% 1.5s\u001b[0K\u001b[1G161.3 MiB [] 68% 1.4s\u001b[0K\u001b[1G161.3 MiB [] 70% 1.4s\u001b[0K\u001b[1G161.3 MiB [] 71% 1.3s\u001b[0K\u001b[1G161.3 MiB [] 72% 1.2s\u001b[0K\u001b[1G161.3 MiB [] 74% 1.1s\u001b[0K\u001b[1G161.3 MiB [] 75% 1.1s\u001b[0K\u001b[1G161.3 MiB [] 76% 1.0s\u001b[0K\u001b[1G161.3 MiB [] 77% 1.0s\u001b[0K\u001b[1G161.3 MiB [] 78% 0.9s\u001b[0K\u001b[1G161.3 MiB [] 79% 0.9s\u001b[0K\u001b[1G161.3 MiB [] 80% 0.8s\u001b[0K\u001b[1G161.3 MiB [] 81% 0.8s\u001b[0K\u001b[1G161.3 MiB [] 82% 0.7s\u001b[0K\u001b[1G161.3 MiB [] 83% 0.7s\u001b[0K\u001b[1G161.3 MiB [] 84% 0.7s\u001b[0K\u001b[1G161.3 MiB [] 85% 0.6s\u001b[0K\u001b[1G161.3 MiB [] 86% 0.5s\u001b[0K\u001b[1G161.3 MiB [] 87% 0.5s\u001b[0K\u001b[1G161.3 MiB [] 88% 0.5s\u001b[0K\u001b[1G161.3 MiB [] 89% 0.4s\u001b[0K\u001b[1G161.3 MiB [] 90% 0.4s\u001b[0K\u001b[1G161.3 MiB [] 91% 0.3s\u001b[0K\u001b[1G161.3 MiB [] 92% 0.3s\u001b[0K\u001b[1G161.3 MiB [] 93% 0.3s\u001b[0K\u001b[1G161.3 MiB [] 93% 0.2s\u001b[0K\u001b[1G161.3 MiB [] 94% 0.2s\u001b[0K\u001b[1G161.3 MiB [] 95% 0.2s\u001b[0K\u001b[1G161.3 MiB [] 96% 0.1s\u001b[0K\u001b[1G161.3 MiB [] 97% 0.1s\u001b[0K\u001b[1G161.3 MiB [] 98% 0.0s\u001b[0K\u001b[1G161.3 MiB [] 100% 0.0s\u001b[0K\n",
            "Chromium 131.0.6778.33 (playwright build v1148) downloaded to /root/.cache/ms-playwright/chromium-1148\n",
            "Downloading Chromium Headless Shell 131.0.6778.33 (playwright build v1148)\u001b[2m from https://playwright.azureedge.net/builds/chromium/1148/chromium-headless-shell-linux.zip\u001b[22m\n",
            "\u001b[1G100.9 MiB [] 0% 0.0s\u001b[0K\u001b[1G100.9 MiB [] 0% 20.8s\u001b[0K\u001b[1G100.9 MiB [] 0% 16.9s\u001b[0K\u001b[1G100.9 MiB [] 0% 8.5s\u001b[0K\u001b[1G100.9 MiB [] 1% 4.9s\u001b[0K\u001b[1G100.9 MiB [] 2% 3.6s\u001b[0K\u001b[1G100.9 MiB [] 2% 3.4s\u001b[0K\u001b[1G100.9 MiB [] 3% 3.1s\u001b[0K\u001b[1G100.9 MiB [] 4% 2.8s\u001b[0K\u001b[1G100.9 MiB [] 5% 2.7s\u001b[0K\u001b[1G100.9 MiB [] 5% 2.6s\u001b[0K\u001b[1G100.9 MiB [] 6% 2.7s\u001b[0K\u001b[1G100.9 MiB [] 7% 2.6s\u001b[0K\u001b[1G100.9 MiB [] 8% 2.4s\u001b[0K\u001b[1G100.9 MiB [] 8% 2.5s\u001b[0K\u001b[1G100.9 MiB [] 9% 2.5s\u001b[0K\u001b[1G100.9 MiB [] 9% 2.4s\u001b[0K\u001b[1G100.9 MiB [] 11% 2.2s\u001b[0K\u001b[1G100.9 MiB [] 12% 2.2s\u001b[0K\u001b[1G100.9 MiB [] 13% 2.0s\u001b[0K\u001b[1G100.9 MiB [] 15% 1.8s\u001b[0K\u001b[1G100.9 MiB [] 16% 1.8s\u001b[0K\u001b[1G100.9 MiB [] 17% 1.7s\u001b[0K\u001b[1G100.9 MiB [] 19% 1.6s\u001b[0K\u001b[1G100.9 MiB [] 21% 1.5s\u001b[0K\u001b[1G100.9 MiB [] 23% 1.4s\u001b[0K\u001b[1G100.9 MiB [] 24% 1.3s\u001b[0K\u001b[1G100.9 MiB [] 25% 1.3s\u001b[0K\u001b[1G100.9 MiB [] 26% 1.3s\u001b[0K\u001b[1G100.9 MiB [] 29% 1.2s\u001b[0K\u001b[1G100.9 MiB [] 30% 1.1s\u001b[0K\u001b[1G100.9 MiB [] 33% 1.0s\u001b[0K\u001b[1G100.9 MiB [] 35% 1.0s\u001b[0K\u001b[1G100.9 MiB [] 37% 0.9s\u001b[0K\u001b[1G100.9 MiB [] 39% 0.9s\u001b[0K\u001b[1G100.9 MiB [] 41% 0.8s\u001b[0K\u001b[1G100.9 MiB [] 43% 0.8s\u001b[0K\u001b[1G100.9 MiB [] 45% 0.7s\u001b[0K\u001b[1G100.9 MiB [] 46% 0.7s\u001b[0K\u001b[1G100.9 MiB [] 48% 0.7s\u001b[0K\u001b[1G100.9 MiB [] 50% 0.7s\u001b[0K\u001b[1G100.9 MiB [] 53% 0.6s\u001b[0K\u001b[1G100.9 MiB [] 55% 0.6s\u001b[0K\u001b[1G100.9 MiB [] 58% 0.5s\u001b[0K\u001b[1G100.9 MiB [] 60% 0.5s\u001b[0K\u001b[1G100.9 MiB [] 62% 0.4s\u001b[0K\u001b[1G100.9 MiB [] 65% 0.4s\u001b[0K\u001b[1G100.9 MiB [] 67% 0.4s\u001b[0K\u001b[1G100.9 MiB [] 69% 0.3s\u001b[0K\u001b[1G100.9 MiB [] 71% 0.3s\u001b[0K\u001b[1G100.9 MiB [] 73% 0.3s\u001b[0K\u001b[1G100.9 MiB [] 75% 0.3s\u001b[0K\u001b[1G100.9 MiB [] 78% 0.2s\u001b[0K\u001b[1G100.9 MiB [] 80% 0.2s\u001b[0K\u001b[1G100.9 MiB [] 82% 0.2s\u001b[0K\u001b[1G100.9 MiB [] 83% 0.2s\u001b[0K\u001b[1G100.9 MiB [] 85% 0.2s\u001b[0K\u001b[1G100.9 MiB [] 86% 0.1s\u001b[0K\u001b[1G100.9 MiB [] 88% 0.1s\u001b[0K\u001b[1G100.9 MiB [] 90% 0.1s\u001b[0K\u001b[1G100.9 MiB [] 91% 0.1s\u001b[0K\u001b[1G100.9 MiB [] 93% 0.1s\u001b[0K\u001b[1G100.9 MiB [] 94% 0.1s\u001b[0K\u001b[1G100.9 MiB [] 95% 0.0s\u001b[0K\u001b[1G100.9 MiB [] 96% 0.0s\u001b[0K\u001b[1G100.9 MiB [] 98% 0.0s\u001b[0K\u001b[1G100.9 MiB [] 99% 0.0s\u001b[0K\u001b[1G100.9 MiB [] 100% 0.0s\u001b[0K\n",
            "Chromium Headless Shell 131.0.6778.33 (playwright build v1148) downloaded to /root/.cache/ms-playwright/chromium_headless_shell-1148\n",
            "Downloading Firefox 132.0 (playwright build v1466)\u001b[2m from https://playwright.azureedge.net/builds/firefox/1466/firefox-ubuntu-22.04.zip\u001b[22m\n",
            "\u001b[1G87.6 MiB [] 0% 0.0s\u001b[0K\u001b[1G87.6 MiB [] 0% 15.0s\u001b[0K\u001b[1G87.6 MiB [] 0% 12.3s\u001b[0K\u001b[1G87.6 MiB [] 0% 6.5s\u001b[0K\u001b[1G87.6 MiB [] 1% 3.6s\u001b[0K\u001b[1G87.6 MiB [] 2% 2.8s\u001b[0K\u001b[1G87.6 MiB [] 3% 2.4s\u001b[0K\u001b[1G87.6 MiB [] 4% 2.2s\u001b[0K\u001b[1G87.6 MiB [] 5% 2.0s\u001b[0K\u001b[1G87.6 MiB [] 7% 1.9s\u001b[0K\u001b[1G87.6 MiB [] 8% 1.7s\u001b[0K\u001b[1G87.6 MiB [] 9% 1.6s\u001b[0K\u001b[1G87.6 MiB [] 11% 1.5s\u001b[0K\u001b[1G87.6 MiB [] 12% 1.5s\u001b[0K\u001b[1G87.6 MiB [] 12% 1.6s\u001b[0K\u001b[1G87.6 MiB [] 13% 1.7s\u001b[0K\u001b[1G87.6 MiB [] 14% 1.6s\u001b[0K\u001b[1G87.6 MiB [] 15% 1.5s\u001b[0K\u001b[1G87.6 MiB [] 17% 1.5s\u001b[0K\u001b[1G87.6 MiB [] 19% 1.4s\u001b[0K\u001b[1G87.6 MiB [] 20% 1.4s\u001b[0K\u001b[1G87.6 MiB [] 21% 1.4s\u001b[0K\u001b[1G87.6 MiB [] 22% 1.3s\u001b[0K\u001b[1G87.6 MiB [] 24% 1.3s\u001b[0K\u001b[1G87.6 MiB [] 26% 1.2s\u001b[0K\u001b[1G87.6 MiB [] 28% 1.2s\u001b[0K\u001b[1G87.6 MiB [] 29% 1.2s\u001b[0K\u001b[1G87.6 MiB [] 31% 1.1s\u001b[0K\u001b[1G87.6 MiB [] 33% 1.0s\u001b[0K\u001b[1G87.6 MiB [] 34% 1.0s\u001b[0K\u001b[1G87.6 MiB [] 35% 1.0s\u001b[0K\u001b[1G87.6 MiB [] 37% 0.9s\u001b[0K\u001b[1G87.6 MiB [] 39% 0.9s\u001b[0K\u001b[1G87.6 MiB [] 40% 0.9s\u001b[0K\u001b[1G87.6 MiB [] 41% 0.9s\u001b[0K\u001b[1G87.6 MiB [] 43% 0.8s\u001b[0K\u001b[1G87.6 MiB [] 44% 0.8s\u001b[0K\u001b[1G87.6 MiB [] 45% 0.8s\u001b[0K\u001b[1G87.6 MiB [] 46% 0.8s\u001b[0K\u001b[1G87.6 MiB [] 47% 0.8s\u001b[0K\u001b[1G87.6 MiB [] 48% 0.8s\u001b[0K\u001b[1G87.6 MiB [] 49% 0.8s\u001b[0K\u001b[1G87.6 MiB [] 50% 0.8s\u001b[0K\u001b[1G87.6 MiB [] 51% 0.7s\u001b[0K\u001b[1G87.6 MiB [] 52% 0.7s\u001b[0K\u001b[1G87.6 MiB [] 53% 0.7s\u001b[0K\u001b[1G87.6 MiB [] 53% 0.8s\u001b[0K\u001b[1G87.6 MiB [] 54% 0.8s\u001b[0K\u001b[1G87.6 MiB [] 55% 0.8s\u001b[0K\u001b[1G87.6 MiB [] 56% 0.7s\u001b[0K\u001b[1G87.6 MiB [] 57% 0.7s\u001b[0K\u001b[1G87.6 MiB [] 58% 0.7s\u001b[0K\u001b[1G87.6 MiB [] 59% 0.7s\u001b[0K\u001b[1G87.6 MiB [] 61% 0.7s\u001b[0K\u001b[1G87.6 MiB [] 62% 0.6s\u001b[0K\u001b[1G87.6 MiB [] 63% 0.6s\u001b[0K\u001b[1G87.6 MiB [] 65% 0.6s\u001b[0K\u001b[1G87.6 MiB [] 66% 0.5s\u001b[0K\u001b[1G87.6 MiB [] 67% 0.5s\u001b[0K\u001b[1G87.6 MiB [] 69% 0.5s\u001b[0K\u001b[1G87.6 MiB [] 71% 0.5s\u001b[0K\u001b[1G87.6 MiB [] 72% 0.4s\u001b[0K\u001b[1G87.6 MiB [] 73% 0.4s\u001b[0K\u001b[1G87.6 MiB [] 74% 0.4s\u001b[0K\u001b[1G87.6 MiB [] 76% 0.4s\u001b[0K\u001b[1G87.6 MiB [] 77% 0.4s\u001b[0K\u001b[1G87.6 MiB [] 78% 0.4s\u001b[0K\u001b[1G87.6 MiB [] 79% 0.3s\u001b[0K\u001b[1G87.6 MiB [] 80% 0.3s\u001b[0K\u001b[1G87.6 MiB [] 82% 0.3s\u001b[0K\u001b[1G87.6 MiB [] 83% 0.3s\u001b[0K\u001b[1G87.6 MiB [] 84% 0.2s\u001b[0K\u001b[1G87.6 MiB [] 85% 0.2s\u001b[0K\u001b[1G87.6 MiB [] 86% 0.2s\u001b[0K\u001b[1G87.6 MiB [] 88% 0.2s\u001b[0K\u001b[1G87.6 MiB [] 89% 0.2s\u001b[0K\u001b[1G87.6 MiB [] 90% 0.1s\u001b[0K\u001b[1G87.6 MiB [] 91% 0.1s\u001b[0K\u001b[1G87.6 MiB [] 93% 0.1s\u001b[0K\u001b[1G87.6 MiB [] 94% 0.1s\u001b[0K\u001b[1G87.6 MiB [] 95% 0.1s\u001b[0K\u001b[1G87.6 MiB [] 97% 0.0s\u001b[0K\u001b[1G87.6 MiB [] 98% 0.0s\u001b[0K\u001b[1G87.6 MiB [] 100% 0.0s\u001b[0K\n",
            "Firefox 132.0 (playwright build v1466) downloaded to /root/.cache/ms-playwright/firefox-1466\n",
            "Downloading Webkit 18.2 (playwright build v2104)\u001b[2m from https://playwright.azureedge.net/builds/webkit/2104/webkit-ubuntu-22.04.zip\u001b[22m\n",
            "\u001b[1G95.5 MiB [] 0% 0.0s\u001b[0K\u001b[1G95.5 MiB [] 0% 25.8s\u001b[0K\u001b[1G95.5 MiB [] 0% 13.3s\u001b[0K\u001b[1G95.5 MiB [] 0% 8.3s\u001b[0K\u001b[1G95.5 MiB [] 1% 4.4s\u001b[0K\u001b[1G95.5 MiB [] 2% 2.9s\u001b[0K\u001b[1G95.5 MiB [] 4% 2.3s\u001b[0K\u001b[1G95.5 MiB [] 5% 2.0s\u001b[0K\u001b[1G95.5 MiB [] 7% 1.7s\u001b[0K\u001b[1G95.5 MiB [] 8% 1.5s\u001b[0K\u001b[1G95.5 MiB [] 10% 1.4s\u001b[0K\u001b[1G95.5 MiB [] 11% 1.5s\u001b[0K\u001b[1G95.5 MiB [] 12% 1.4s\u001b[0K\u001b[1G95.5 MiB [] 14% 1.3s\u001b[0K\u001b[1G95.5 MiB [] 15% 1.2s\u001b[0K\u001b[1G95.5 MiB [] 17% 1.2s\u001b[0K\u001b[1G95.5 MiB [] 18% 1.1s\u001b[0K\u001b[1G95.5 MiB [] 20% 1.1s\u001b[0K\u001b[1G95.5 MiB [] 22% 1.1s\u001b[0K\u001b[1G95.5 MiB [] 24% 1.0s\u001b[0K\u001b[1G95.5 MiB [] 25% 1.0s\u001b[0K\u001b[1G95.5 MiB [] 27% 0.9s\u001b[0K\u001b[1G95.5 MiB [] 29% 0.9s\u001b[0K\u001b[1G95.5 MiB [] 31% 0.8s\u001b[0K\u001b[1G95.5 MiB [] 33% 0.8s\u001b[0K\u001b[1G95.5 MiB [] 35% 0.7s\u001b[0K\u001b[1G95.5 MiB [] 38% 0.7s\u001b[0K\u001b[1G95.5 MiB [] 39% 0.7s\u001b[0K\u001b[1G95.5 MiB [] 40% 0.7s\u001b[0K\u001b[1G95.5 MiB [] 41% 0.7s\u001b[0K\u001b[1G95.5 MiB [] 43% 0.6s\u001b[0K\u001b[1G95.5 MiB [] 45% 0.6s\u001b[0K\u001b[1G95.5 MiB [] 47% 0.6s\u001b[0K\u001b[1G95.5 MiB [] 49% 0.6s\u001b[0K\u001b[1G95.5 MiB [] 50% 0.5s\u001b[0K\u001b[1G95.5 MiB [] 52% 0.5s\u001b[0K\u001b[1G95.5 MiB [] 54% 0.5s\u001b[0K\u001b[1G95.5 MiB [] 57% 0.4s\u001b[0K\u001b[1G95.5 MiB [] 59% 0.4s\u001b[0K\u001b[1G95.5 MiB [] 61% 0.4s\u001b[0K\u001b[1G95.5 MiB [] 64% 0.4s\u001b[0K\u001b[1G95.5 MiB [] 66% 0.3s\u001b[0K\u001b[1G95.5 MiB [] 68% 0.3s\u001b[0K\u001b[1G95.5 MiB [] 70% 0.3s\u001b[0K\u001b[1G95.5 MiB [] 72% 0.3s\u001b[0K\u001b[1G95.5 MiB [] 74% 0.3s\u001b[0K\u001b[1G95.5 MiB [] 75% 0.2s\u001b[0K\u001b[1G95.5 MiB [] 77% 0.2s\u001b[0K\u001b[1G95.5 MiB [] 78% 0.2s\u001b[0K\u001b[1G95.5 MiB [] 79% 0.2s\u001b[0K\u001b[1G95.5 MiB [] 80% 0.2s\u001b[0K\u001b[1G95.5 MiB [] 82% 0.2s\u001b[0K\u001b[1G95.5 MiB [] 83% 0.2s\u001b[0K\u001b[1G95.5 MiB [] 84% 0.2s\u001b[0K\u001b[1G95.5 MiB [] 85% 0.1s\u001b[0K\u001b[1G95.5 MiB [] 86% 0.1s\u001b[0K\u001b[1G95.5 MiB [] 87% 0.1s\u001b[0K\u001b[1G95.5 MiB [] 88% 0.1s\u001b[0K\u001b[1G95.5 MiB [] 90% 0.1s\u001b[0K\u001b[1G95.5 MiB [] 92% 0.1s\u001b[0K\u001b[1G95.5 MiB [] 94% 0.1s\u001b[0K\u001b[1G95.5 MiB [] 96% 0.0s\u001b[0K\u001b[1G95.5 MiB [] 98% 0.0s\u001b[0K\u001b[1G95.5 MiB [] 100% 0.0s\u001b[0K\n",
            "Webkit 18.2 (playwright build v2104) downloaded to /root/.cache/ms-playwright/webkit-2104\n",
            "Downloading FFMPEG playwright build v1010\u001b[2m from https://playwright.azureedge.net/builds/ffmpeg/1010/ffmpeg-linux.zip\u001b[22m\n",
            "\u001b[1G2.3 MiB [] 0% 0.0s\u001b[0K\u001b[1G2.3 MiB [] 3% 0.5s\u001b[0K\u001b[1G2.3 MiB [] 9% 0.3s\u001b[0K\u001b[1G2.3 MiB [] 23% 0.2s\u001b[0K\u001b[1G2.3 MiB [] 34% 0.1s\u001b[0K\u001b[1G2.3 MiB [] 56% 0.1s\u001b[0K\u001b[1G2.3 MiB [] 78% 0.0s\u001b[0K\u001b[1G2.3 MiB [] 100% 0.0s\u001b[0K\n",
            "FFMPEG playwright build v1010 downloaded to /root/.cache/ms-playwright/ffmpeg-1010\n",
            "Playwright Host validation warning: \n",
            "╔══════════════════════════════════════════════════════╗\n",
            "║ Host system is missing dependencies to run browsers. ║\n",
            "║ Missing libraries:                                   ║\n",
            "║     libwoff2dec.so.1.0.2                             ║\n",
            "║     libgstgl-1.0.so.0                                ║\n",
            "║     libgstcodecparsers-1.0.so.0                      ║\n",
            "║     libavif.so.13                                    ║\n",
            "║     libharfbuzz-icu.so.0                             ║\n",
            "║     libenchant-2.so.2                                ║\n",
            "║     libsecret-1.so.0                                 ║\n",
            "║     libhyphen.so.0                                   ║\n",
            "║     libmanette-0.2.so.0                              ║\n",
            "╚══════════════════════════════════════════════════════╝\n",
            "    at validateDependenciesLinux (/usr/local/lib/python3.10/dist-packages/playwright/driver/package/lib/server/registry/dependencies.js:216:9)\n",
            "\u001b[90m    at process.processTicksAndRejections (node:internal/process/task_queues:105:5)\u001b[39m\n",
            "    at async Registry._validateHostRequirements (/usr/local/lib/python3.10/dist-packages/playwright/driver/package/lib/server/registry/index.js:753:43)\n",
            "    at async Registry._validateHostRequirementsForExecutableIfNeeded (/usr/local/lib/python3.10/dist-packages/playwright/driver/package/lib/server/registry/index.js:851:7)\n",
            "    at async Registry.validateHostRequirementsForExecutablesIfNeeded (/usr/local/lib/python3.10/dist-packages/playwright/driver/package/lib/server/registry/index.js:840:43)\n",
            "    at async t.<anonymous> (/usr/local/lib/python3.10/dist-packages/playwright/driver/package/lib/cli/program.js:137:7)\n"
          ]
        }
      ]
    },
    {
      "cell_type": "code",
      "source": [
        "!apt-get install -y xvfb\n"
      ],
      "metadata": {
        "colab": {
          "base_uri": "https://localhost:8080/"
        },
        "id": "TBZb5QMxjGH-",
        "outputId": "bc7a0ed8-9210-4f12-dff2-ea6fb106980f"
      },
      "execution_count": null,
      "outputs": [
        {
          "output_type": "stream",
          "name": "stdout",
          "text": [
            "Reading package lists... Done\n",
            "Building dependency tree... Done\n",
            "Reading state information... Done\n",
            "xvfb is already the newest version (2:21.1.4-2ubuntu1.7~22.04.12).\n",
            "0 upgraded, 0 newly installed, 0 to remove and 4 not upgraded.\n"
          ]
        }
      ]
    },
    {
      "cell_type": "code",
      "source": [
        "# Install necessary libraries and Playwright\n",
        "!apt-get update\n",
        "!apt-get install -y \\\n",
        "    libwoff2dec1 \\\n",
        "    libgstgl-1.0-0 \\\n",
        "    libgstcodecparsers-1.0-0 \\\n",
        "    libavif13 \\\n",
        "    libharfbuzz-icu0 \\\n",
        "    libenchant2-2 \\\n",
        "    libsecret-1-0 \\\n",
        "    libhyphen0 \\\n",
        "    libmanette-0.2-0\n",
        "\n",
        "!pip install playwright\n",
        "!playwright install\n",
        "\n",
        "# Run Playwright\n",
        "import time\n",
        "from playwright.async_api import async_playwright\n",
        "from PIL import Image\n",
        "\n",
        "# Define the async function\n",
        "async def run_playwright():\n",
        "    async with async_playwright() as p:\n",
        "        # Launch the browser in headless mode\n",
        "        browser = await p.chromium.launch(headless=True)\n",
        "        page = await browser.new_page()\n",
        "\n",
        "        # Perform automation tasks: Navigate to Google and search for \"Toni Ramchandani\"\n",
        "        await page.goto('https://www.google.com')\n",
        "        await page.fill('input[name=\"q\"]', 'Toni Ramchandani')\n",
        "        await page.press('input[name=\"q\"]', 'Enter')\n",
        "\n",
        "        # Wait for the page to load\n",
        "        await page.wait_for_timeout(3000)\n",
        "\n",
        "        # Capture a screenshot\n",
        "        screenshot_path = '/content/toni_ramchandani_playwright.png'\n",
        "        await page.screenshot(path=screenshot_path)\n",
        "\n",
        "        # Display the screenshot\n",
        "        img = Image.open(screenshot_path)\n",
        "        img.show()\n",
        "\n",
        "        # Close the browser\n",
        "        await browser.close()\n",
        "\n",
        "# Run the async function\n",
        "await run_playwright()\n"
      ],
      "metadata": {
        "colab": {
          "base_uri": "https://localhost:8080/",
          "height": 1000
        },
        "id": "FJG7WL70kV7W",
        "outputId": "a7f181d7-11db-4a28-c25a-52a9d58725e2"
      },
      "execution_count": null,
      "outputs": [
        {
          "output_type": "stream",
          "name": "stdout",
          "text": [
            "\r0% [Working]\r            \rHit:1 http://security.ubuntu.com/ubuntu jammy-security InRelease\n",
            "\r0% [Connecting to archive.ubuntu.com (185.125.190.82)] [Connected to cloud.r-project.org (18.154.101\r                                                                                                    \rHit:2 https://cloud.r-project.org/bin/linux/ubuntu jammy-cran40/ InRelease\n",
            "\r0% [Waiting for headers] [Connected to r2u.stat.illinois.edu (192.17.190.167)] [Waiting for headers]\r                                                                                                    \rHit:3 https://developer.download.nvidia.com/compute/cuda/repos/ubuntu2204/x86_64  InRelease\n",
            "\r0% [Waiting for headers] [Waiting for headers] [Connected to ppa.launchpadcontent.net (185.125.190.8\r                                                                                                    \rHit:4 http://archive.ubuntu.com/ubuntu jammy InRelease\n",
            "Hit:5 https://r2u.stat.illinois.edu/ubuntu jammy InRelease\n",
            "Hit:6 http://archive.ubuntu.com/ubuntu jammy-updates InRelease\n",
            "Hit:7 http://archive.ubuntu.com/ubuntu jammy-backports InRelease\n",
            "Hit:8 https://ppa.launchpadcontent.net/deadsnakes/ppa/ubuntu jammy InRelease\n",
            "Hit:9 https://ppa.launchpadcontent.net/graphics-drivers/ppa/ubuntu jammy InRelease\n",
            "Hit:10 https://ppa.launchpadcontent.net/ubuntugis/ppa/ubuntu jammy InRelease\n",
            "Hit:11 https://dl.google.com/linux/chrome/deb stable InRelease\n",
            "Reading package lists... Done\n",
            "W: Skipping acquire of configured file 'main/source/Sources' as repository 'https://r2u.stat.illinois.edu/ubuntu jammy InRelease' does not seem to provide it (sources.list entry misspelt?)\n",
            "Reading package lists... Done\n",
            "Building dependency tree... Done\n",
            "Reading state information... Done\n",
            "E: Unable to locate package libwoff2dec1\n",
            "E: Unable to locate package libgstgl-1.0-0\n",
            "E: Couldn't find any package by glob 'libgstgl-1.0-0'\n",
            "E: Couldn't find any package by regex 'libgstgl-1.0-0'\n",
            "E: Unable to locate package libgstcodecparsers-1.0-0\n",
            "E: Couldn't find any package by glob 'libgstcodecparsers-1.0-0'\n",
            "E: Couldn't find any package by regex 'libgstcodecparsers-1.0-0'\n",
            "E: Unable to locate package libenchant2-2\n",
            "Requirement already satisfied: playwright in /usr/local/lib/python3.10/dist-packages (1.49.0)\n",
            "Requirement already satisfied: greenlet==3.1.1 in /usr/local/lib/python3.10/dist-packages (from playwright) (3.1.1)\n",
            "Requirement already satisfied: pyee==12.0.0 in /usr/local/lib/python3.10/dist-packages (from playwright) (12.0.0)\n",
            "Requirement already satisfied: typing-extensions in /usr/local/lib/python3.10/dist-packages (from pyee==12.0.0->playwright) (4.12.2)\n",
            "Playwright Host validation warning: \n",
            "╔══════════════════════════════════════════════════════╗\n",
            "║ Host system is missing dependencies to run browsers. ║\n",
            "║ Missing libraries:                                   ║\n",
            "║     libwoff2dec.so.1.0.2                             ║\n",
            "║     libgstgl-1.0.so.0                                ║\n",
            "║     libgstcodecparsers-1.0.so.0                      ║\n",
            "║     libavif.so.13                                    ║\n",
            "║     libharfbuzz-icu.so.0                             ║\n",
            "║     libenchant-2.so.2                                ║\n",
            "║     libsecret-1.so.0                                 ║\n",
            "║     libhyphen.so.0                                   ║\n",
            "║     libmanette-0.2.so.0                              ║\n",
            "╚══════════════════════════════════════════════════════╝\n",
            "    at validateDependenciesLinux (/usr/local/lib/python3.10/dist-packages/playwright/driver/package/lib/server/registry/dependencies.js:216:9)\n",
            "\u001b[90m    at process.processTicksAndRejections (node:internal/process/task_queues:105:5)\u001b[39m\n",
            "    at async Registry._validateHostRequirements (/usr/local/lib/python3.10/dist-packages/playwright/driver/package/lib/server/registry/index.js:753:43)\n",
            "    at async Registry._validateHostRequirementsForExecutableIfNeeded (/usr/local/lib/python3.10/dist-packages/playwright/driver/package/lib/server/registry/index.js:851:7)\n",
            "    at async Registry.validateHostRequirementsForExecutablesIfNeeded (/usr/local/lib/python3.10/dist-packages/playwright/driver/package/lib/server/registry/index.js:840:43)\n",
            "    at async t.<anonymous> (/usr/local/lib/python3.10/dist-packages/playwright/driver/package/lib/cli/program.js:137:7)\n"
          ]
        },
        {
          "output_type": "error",
          "ename": "TimeoutError",
          "evalue": "Page.fill: Timeout 30000ms exceeded.\nCall log:\n  - waiting for locator(\"input[name=\\\"q\\\"]\")\n",
          "traceback": [
            "\u001b[0;31m---------------------------------------------------------------------------\u001b[0m",
            "\u001b[0;31mTimeoutError\u001b[0m                              Traceback (most recent call last)",
            "\u001b[0;32m<ipython-input-29-4d45a3274963>\u001b[0m in \u001b[0;36m<cell line: 40>\u001b[0;34m()\u001b[0m\n\u001b[1;32m     38\u001b[0m \u001b[0;34m\u001b[0m\u001b[0m\n\u001b[1;32m     39\u001b[0m \u001b[0;31m# Run the async function\u001b[0m\u001b[0;34m\u001b[0m\u001b[0;34m\u001b[0m\u001b[0m\n\u001b[0;32m---> 40\u001b[0;31m \u001b[0;32mawait\u001b[0m \u001b[0mrun_playwright\u001b[0m\u001b[0;34m(\u001b[0m\u001b[0;34m)\u001b[0m\u001b[0;34m\u001b[0m\u001b[0;34m\u001b[0m\u001b[0m\n\u001b[0m",
            "\u001b[0;32m<ipython-input-29-4d45a3274963>\u001b[0m in \u001b[0;36mrun_playwright\u001b[0;34m()\u001b[0m\n\u001b[1;32m     20\u001b[0m         \u001b[0;31m# Perform automation tasks: Navigate to Google and search for \"Toni Ramchandani\"\u001b[0m\u001b[0;34m\u001b[0m\u001b[0;34m\u001b[0m\u001b[0m\n\u001b[1;32m     21\u001b[0m         \u001b[0;32mawait\u001b[0m \u001b[0mpage\u001b[0m\u001b[0;34m.\u001b[0m\u001b[0mgoto\u001b[0m\u001b[0;34m(\u001b[0m\u001b[0;34m'https://www.google.com'\u001b[0m\u001b[0;34m)\u001b[0m\u001b[0;34m\u001b[0m\u001b[0;34m\u001b[0m\u001b[0m\n\u001b[0;32m---> 22\u001b[0;31m         \u001b[0;32mawait\u001b[0m \u001b[0mpage\u001b[0m\u001b[0;34m.\u001b[0m\u001b[0mfill\u001b[0m\u001b[0;34m(\u001b[0m\u001b[0;34m'input[name=\"q\"]'\u001b[0m\u001b[0;34m,\u001b[0m \u001b[0;34m'Toni Ramchandani'\u001b[0m\u001b[0;34m)\u001b[0m\u001b[0;34m\u001b[0m\u001b[0;34m\u001b[0m\u001b[0m\n\u001b[0m\u001b[1;32m     23\u001b[0m         \u001b[0;32mawait\u001b[0m \u001b[0mpage\u001b[0m\u001b[0;34m.\u001b[0m\u001b[0mpress\u001b[0m\u001b[0;34m(\u001b[0m\u001b[0;34m'input[name=\"q\"]'\u001b[0m\u001b[0;34m,\u001b[0m \u001b[0;34m'Enter'\u001b[0m\u001b[0;34m)\u001b[0m\u001b[0;34m\u001b[0m\u001b[0;34m\u001b[0m\u001b[0m\n\u001b[1;32m     24\u001b[0m \u001b[0;34m\u001b[0m\u001b[0m\n",
            "\u001b[0;32m/usr/local/lib/python3.10/dist-packages/playwright/async_api/_generated.py\u001b[0m in \u001b[0;36mfill\u001b[0;34m(self, selector, value, timeout, no_wait_after, strict, force)\u001b[0m\n\u001b[1;32m  10061\u001b[0m \u001b[0;34m\u001b[0m\u001b[0m\n\u001b[1;32m  10062\u001b[0m         return mapping.from_maybe_impl(\n\u001b[0;32m> 10063\u001b[0;31m             await self._impl_obj.fill(\n\u001b[0m\u001b[1;32m  10064\u001b[0m                 \u001b[0mselector\u001b[0m\u001b[0;34m=\u001b[0m\u001b[0mselector\u001b[0m\u001b[0;34m,\u001b[0m\u001b[0;34m\u001b[0m\u001b[0;34m\u001b[0m\u001b[0m\n\u001b[1;32m  10065\u001b[0m                 \u001b[0mvalue\u001b[0m\u001b[0;34m=\u001b[0m\u001b[0mvalue\u001b[0m\u001b[0;34m,\u001b[0m\u001b[0;34m\u001b[0m\u001b[0;34m\u001b[0m\u001b[0m\n",
            "\u001b[0;32m/usr/local/lib/python3.10/dist-packages/playwright/_impl/_page.py\u001b[0m in \u001b[0;36mfill\u001b[0;34m(self, selector, value, timeout, noWaitAfter, strict, force)\u001b[0m\n\u001b[1;32m    864\u001b[0m         \u001b[0mforce\u001b[0m\u001b[0;34m:\u001b[0m \u001b[0mbool\u001b[0m \u001b[0;34m=\u001b[0m \u001b[0;32mNone\u001b[0m\u001b[0;34m,\u001b[0m\u001b[0;34m\u001b[0m\u001b[0;34m\u001b[0m\u001b[0m\n\u001b[1;32m    865\u001b[0m     ) -> None:\n\u001b[0;32m--> 866\u001b[0;31m         \u001b[0;32mreturn\u001b[0m \u001b[0;32mawait\u001b[0m \u001b[0mself\u001b[0m\u001b[0;34m.\u001b[0m\u001b[0m_main_frame\u001b[0m\u001b[0;34m.\u001b[0m\u001b[0mfill\u001b[0m\u001b[0;34m(\u001b[0m\u001b[0;34m**\u001b[0m\u001b[0mlocals_to_params\u001b[0m\u001b[0;34m(\u001b[0m\u001b[0mlocals\u001b[0m\u001b[0;34m(\u001b[0m\u001b[0;34m)\u001b[0m\u001b[0;34m)\u001b[0m\u001b[0;34m)\u001b[0m\u001b[0;34m\u001b[0m\u001b[0;34m\u001b[0m\u001b[0m\n\u001b[0m\u001b[1;32m    867\u001b[0m \u001b[0;34m\u001b[0m\u001b[0m\n\u001b[1;32m    868\u001b[0m     def locator(\n",
            "\u001b[0;32m/usr/local/lib/python3.10/dist-packages/playwright/_impl/_frame.py\u001b[0m in \u001b[0;36mfill\u001b[0;34m(self, selector, value, timeout, noWaitAfter, strict, force)\u001b[0m\n\u001b[1;32m    525\u001b[0m         \u001b[0mforce\u001b[0m\u001b[0;34m:\u001b[0m \u001b[0mbool\u001b[0m \u001b[0;34m=\u001b[0m \u001b[0;32mNone\u001b[0m\u001b[0;34m,\u001b[0m\u001b[0;34m\u001b[0m\u001b[0;34m\u001b[0m\u001b[0m\n\u001b[1;32m    526\u001b[0m     ) -> None:\n\u001b[0;32m--> 527\u001b[0;31m         \u001b[0;32mawait\u001b[0m \u001b[0mself\u001b[0m\u001b[0;34m.\u001b[0m\u001b[0m_channel\u001b[0m\u001b[0;34m.\u001b[0m\u001b[0msend\u001b[0m\u001b[0;34m(\u001b[0m\u001b[0;34m\"fill\"\u001b[0m\u001b[0;34m,\u001b[0m \u001b[0mlocals_to_params\u001b[0m\u001b[0;34m(\u001b[0m\u001b[0mlocals\u001b[0m\u001b[0;34m(\u001b[0m\u001b[0;34m)\u001b[0m\u001b[0;34m)\u001b[0m\u001b[0;34m)\u001b[0m\u001b[0;34m\u001b[0m\u001b[0;34m\u001b[0m\u001b[0m\n\u001b[0m\u001b[1;32m    528\u001b[0m \u001b[0;34m\u001b[0m\u001b[0m\n\u001b[1;32m    529\u001b[0m     def locator(\n",
            "\u001b[0;32m/usr/local/lib/python3.10/dist-packages/playwright/_impl/_connection.py\u001b[0m in \u001b[0;36msend\u001b[0;34m(self, method, params)\u001b[0m\n\u001b[1;32m     59\u001b[0m \u001b[0;34m\u001b[0m\u001b[0m\n\u001b[1;32m     60\u001b[0m     \u001b[0;32masync\u001b[0m \u001b[0;32mdef\u001b[0m \u001b[0msend\u001b[0m\u001b[0;34m(\u001b[0m\u001b[0mself\u001b[0m\u001b[0;34m,\u001b[0m \u001b[0mmethod\u001b[0m\u001b[0;34m:\u001b[0m \u001b[0mstr\u001b[0m\u001b[0;34m,\u001b[0m \u001b[0mparams\u001b[0m\u001b[0;34m:\u001b[0m \u001b[0mDict\u001b[0m \u001b[0;34m=\u001b[0m \u001b[0;32mNone\u001b[0m\u001b[0;34m)\u001b[0m \u001b[0;34m->\u001b[0m \u001b[0mAny\u001b[0m\u001b[0;34m:\u001b[0m\u001b[0;34m\u001b[0m\u001b[0;34m\u001b[0m\u001b[0m\n\u001b[0;32m---> 61\u001b[0;31m         return await self._connection.wrap_api_call(\n\u001b[0m\u001b[1;32m     62\u001b[0m             \u001b[0;32mlambda\u001b[0m\u001b[0;34m:\u001b[0m \u001b[0mself\u001b[0m\u001b[0;34m.\u001b[0m\u001b[0m_inner_send\u001b[0m\u001b[0;34m(\u001b[0m\u001b[0mmethod\u001b[0m\u001b[0;34m,\u001b[0m \u001b[0mparams\u001b[0m\u001b[0;34m,\u001b[0m \u001b[0;32mFalse\u001b[0m\u001b[0;34m)\u001b[0m\u001b[0;34m,\u001b[0m\u001b[0;34m\u001b[0m\u001b[0;34m\u001b[0m\u001b[0m\n\u001b[1;32m     63\u001b[0m             \u001b[0mself\u001b[0m\u001b[0;34m.\u001b[0m\u001b[0m_is_internal_type\u001b[0m\u001b[0;34m,\u001b[0m\u001b[0;34m\u001b[0m\u001b[0;34m\u001b[0m\u001b[0m\n",
            "\u001b[0;32m/usr/local/lib/python3.10/dist-packages/playwright/_impl/_connection.py\u001b[0m in \u001b[0;36mwrap_api_call\u001b[0;34m(self, cb, is_internal)\u001b[0m\n\u001b[1;32m    526\u001b[0m             \u001b[0;32mreturn\u001b[0m \u001b[0;32mawait\u001b[0m \u001b[0mcb\u001b[0m\u001b[0;34m(\u001b[0m\u001b[0;34m)\u001b[0m\u001b[0;34m\u001b[0m\u001b[0;34m\u001b[0m\u001b[0m\n\u001b[1;32m    527\u001b[0m         \u001b[0;32mexcept\u001b[0m \u001b[0mException\u001b[0m \u001b[0;32mas\u001b[0m \u001b[0merror\u001b[0m\u001b[0;34m:\u001b[0m\u001b[0;34m\u001b[0m\u001b[0;34m\u001b[0m\u001b[0m\n\u001b[0;32m--> 528\u001b[0;31m             \u001b[0;32mraise\u001b[0m \u001b[0mrewrite_error\u001b[0m\u001b[0;34m(\u001b[0m\u001b[0merror\u001b[0m\u001b[0;34m,\u001b[0m \u001b[0;34mf\"{parsed_st['apiName']}: {error}\"\u001b[0m\u001b[0;34m)\u001b[0m \u001b[0;32mfrom\u001b[0m \u001b[0;32mNone\u001b[0m\u001b[0;34m\u001b[0m\u001b[0;34m\u001b[0m\u001b[0m\n\u001b[0m\u001b[1;32m    529\u001b[0m         \u001b[0;32mfinally\u001b[0m\u001b[0;34m:\u001b[0m\u001b[0;34m\u001b[0m\u001b[0;34m\u001b[0m\u001b[0m\n\u001b[1;32m    530\u001b[0m             \u001b[0mself\u001b[0m\u001b[0;34m.\u001b[0m\u001b[0m_api_zone\u001b[0m\u001b[0;34m.\u001b[0m\u001b[0mset\u001b[0m\u001b[0;34m(\u001b[0m\u001b[0;32mNone\u001b[0m\u001b[0;34m)\u001b[0m\u001b[0;34m\u001b[0m\u001b[0;34m\u001b[0m\u001b[0m\n",
            "\u001b[0;31mTimeoutError\u001b[0m: Page.fill: Timeout 30000ms exceeded.\nCall log:\n  - waiting for locator(\"input[name=\\\"q\\\"]\")\n"
          ]
        }
      ]
    },
    {
      "cell_type": "code",
      "source": [],
      "metadata": {
        "id": "9ibIYdbDo-vB"
      },
      "execution_count": null,
      "outputs": []
    }
  ]
}